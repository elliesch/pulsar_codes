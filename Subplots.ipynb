{
 "cells": [
  {
   "cell_type": "code",
   "execution_count": 1,
   "metadata": {
    "collapsed": true
   },
   "outputs": [],
   "source": [
    "import numpy as np\n",
    "import matplotlib.pyplot as plt\n",
    "from matplotlib.collections import LineCollection\n",
    "import math\n",
    "from collections import OrderedDict\n",
    "import residuals as r\n",
    "\n",
    "%matplotlib inline\n",
    "import matplotlib.gridspec as gridspec\n",
    "plt.rcParams['font.family']='serif'\n",
    "\n",
    "micro = 10**(6)\n",
    "\n",
    "from matplotlib import ticker\n",
    "from matplotlib.colors import LinearSegmentedColormap\n",
    "from mpl_toolkits.axes_grid1.inset_locator import zoomed_inset_axes\n",
    "from mpl_toolkits.axes_grid1.inset_locator import mark_inset\n",
    "from mpl_toolkits.axes_grid1 import make_axes_locatable"
   ]
  },
  {
   "cell_type": "code",
   "execution_count": 35,
   "metadata": {
    "collapsed": true
   },
   "outputs": [],
   "source": [
    "def weighted_stddev(values, errors):\n",
    "    '''\n",
    "    Return the weighted average and standard deviation.\n",
    "\n",
    "    '''\n",
    "    weights = 1. / ((errors)**2)\n",
    "    average = np.average(values, weights=weights)\n",
    "    variance = np.average((values-average)**2, weights=weights)  # Fast and numerically precise\n",
    "    return (math.sqrt(variance))\n",
    "\n",
    "def magnitude(x):\n",
    "    '''\n",
    "    Return the magnitude of a variable\n",
    "    '''\n",
    "    var = float(x)\n",
    "    return int(math.floor(math.log10(var)))"
   ]
  },
  {
   "cell_type": "code",
   "execution_count": null,
   "metadata": {
    "collapsed": true
   },
   "outputs": [],
   "source": [
    "def make_arrays(psrname, MJDint):\n",
    "    condition_lower=MJDint\n",
    "    condition_upper=MJDint+0.99\n",
    "    \n",
    "    jitter_ratios = OrderedDict()\n",
    "    corr_coefs = OrderedDict()\n",
    "    file_names = []\n",
    "    for elem in ['320','160','80', '40', '20', 'NT']:\n",
    "        #Define sigma_all (or std_all) as entire observation period\n",
    "        x=r.read_residuals(filename=\"/nimrod1/eschwab/residuals/%s_resid_%s_%sF8.tmp\" %(psrname, MJDint, elem))\n",
    "        \n",
    "        condition = (x.bary_TOA > condition_lower) & (x.bary_TOA < condition_upper) & (x.bary_freq > 1221.0) & (x.bary_freq < 2000.0)\n",
    "        Resid_all = x.prefit_sec[condition]\n",
    "        Errors_all = x.uncertainty[condition]\n",
    "        std_all = weighted_stddev(Resid_all, Errors_all)\n",
    "\n",
    "        ##============\n",
    "\n",
    "        #Define sigma_dump (or std_all) as individual dumps within observation period\n",
    "\n",
    "        #This isolates the numbers for the different dump times\n",
    "        rounded = np.round(np.array([x.bary_TOA[condition] - 0.00005]), 4)\n",
    "        dumptimes=[]\n",
    "        for i in rounded.tolist()[0]: \n",
    "            if i not in dumptimes:\n",
    "                dumptimes.append(i)\n",
    "\n",
    "        #This calculates a list of sigma_dump values and averages those\n",
    "        str_dump_devs=[]\n",
    "        for i in dumptimes:\n",
    "            timeindex = (rounded == i)[0]\n",
    "            Resid = Resid_all[timeindex]\n",
    "            Errors = Errors_all[timeindex]\n",
    "            single_std_dump = weighted_stddev(Resid, Errors)\n",
    "            str_dump_devs.append(single_std_dump)\n",
    "\n",
    "        #to convert str_dump_devs out of scientific notation\n",
    "        dump_devs=[]\n",
    "        for i in str_dump_devs:\n",
    "            dump_devs.append('{0:.20f}'.format(i))\n",
    "\n",
    "        #prints the magnitude of each sigma_dump in a list and finds average magnitude\n",
    "        magarray=[]\n",
    "        for i in dump_devs:\n",
    "            magarray.append(magnitude(i))\n",
    "        averagemag = round(np.mean(magarray))\n",
    "\n",
    "        arg=averagemag+1.5\n",
    "        makemask = np.ma.masked_where(np.array(magarray) > arg, np.array(magarray))\n",
    "\n",
    "        std_dump=np.mean(str_dump_devs)\n",
    "        masked_std_dump = np.mean(np.ma.masked_where(np.ma.getmask(makemask), str_dump_devs))\n",
    "\n",
    "        #Setup jitter ratio\n",
    "        ratio = std_all / std_dump\n",
    "        masked_ratio = float(std_all / masked_std_dump)\n",
    "        jitter_ratios[elem] = masked_ratio\n",
    "\n",
    "        ##============\n",
    "\n",
    "        #Print out the correlation coefficient also, to allow for easy reference\n",
    "\n",
    "        #Creating the matrix of the data and transposing it to correct format\n",
    "        data = []\n",
    "        data_errors = []\n",
    "        for i in dumptimes[1:]: #the first set of resids needs to be skipped in J1713, but not sure for all of them?\n",
    "            timeindex = (rounded == i)[0]\n",
    "            Resids = Resid_all[timeindex]\n",
    "            Errors = Errors_all[timeindex]\n",
    "            data.append(Resids)\n",
    "            data_errors.append(Errors)\n",
    "\n",
    "        data = map(list, zip(*data)) #transposing the matrix, supposedly unnecessary if rowvar=0 in corr but gives errors\n",
    "\n",
    "        #Using the Weighted Correlation Coefficient from wikipedia\n",
    "        #https://en.wikipedia.org/wiki/Pearson_product-moment_correlation_coefficient#Weighted_correlation_coefficient\n",
    "        # I added weights by creating a weighted value to multiply each data element by\n",
    "        #The weighted values are normalized by dividing each value by the sum of all weights\n",
    "\n",
    "        data_weights = 1. / (np.array(data_errors)**2)\n",
    "        data_weights = map(list, zip(*(data_weights.tolist())))\n",
    "\n",
    "        #data_weights is a matrix of all the weights\n",
    "\n",
    "        norm_weights = []\n",
    "        for i in data_weights:\n",
    "            norm_weights.append([j/sum(i) for j in i])\n",
    "\n",
    "        weighted_data = []\n",
    "        for i,j in zip(data, norm_weights):\n",
    "            weighted_data.append([a*b for a,b in zip(i,j)])\n",
    "\n",
    "        #Correlating! \n",
    "        corr = np.corrcoef(data)\n",
    "        weighted_corr = np.corrcoef(weighted_data)\n",
    "\n",
    "        unique_corrs = []\n",
    "        #Averaging the correlation\n",
    "        for i in range(len(corr)):\n",
    "            unique_corrs.append(corr[i][i+1:]) #because numpy array, double index necessay\n",
    "        unique_corrs  = [val for sublist in unique_corrs for val in sublist]\n",
    "        final_coefficient = np.average(unique_corrs)\n",
    "\n",
    "        unique_weighted_corrs = []\n",
    "        #Averaging the correlation\n",
    "        for i in range(len(weighted_corr)):\n",
    "            unique_weighted_corrs.append(weighted_corr[i][i+1:]) #because numpy array, double index necessay\n",
    "        unique_weighted_corrs  = [val for sublist in unique_weighted_corrs for val in sublist]\n",
    "        final_weighted_coefficient = np.average(unique_weighted_corrs)\n",
    "        \n",
    "        corr_coefs[elem] = final_coefficient\n",
    "\n",
    "    return jitter_ratios, corr_coefs"
   ]
  },
  {
   "cell_type": "code",
   "execution_count": 85,
   "metadata": {
    "collapsed": false
   },
   "outputs": [
    {
     "name": "stdout",
     "output_type": "stream",
     "text": [
      "[[(0.0, 0.98468252631376929), (1.0, 0.92387817371738856), (2.0, 0.93663749227634274), (3.0, 0.89963874815739742), (4.0, 0.91179484593377902), (5.0, 0.92483311343923258)], [(0.0, 0.89139445322848476), (1.0, 0.87337859545644114), (2.0, 0.96817981655883523), (3.0, 0.92688685795065573), (4.0, 0.87414310699503983), (5.0, 0.82557053264155089)], [(0.0, 0.96737129113554576), (1.0, 0.94058324477968369), (2.0, 0.98136739268804662), (3.0, 0.9827565288611364), (4.0, 0.97602592444114744), (5.0, 0.97602592444114744)], [(0.0, 0.33519116274005262), (1.0, 0.58067827990992638), (2.0, 0.75200186345043118), (3.0, 0.79007437809392655), (4.0, 0.81188398681325891), (5.0, 0.82440491966613216)], [(0.0, 0.14520705558114794), (1.0, 0.68699437604037317), (2.0, 0.75420578788343751), (3.0, 0.7087718689670639), (4.0, 0.66511896027925188), (5.0, 0.64776006815403064)]]\n",
      "[[(0.0, 0.98468252631376929), (1.0, 0.92387817371738856), (2.0, 0.93663749227634274), (3.0, 0.89963874815739742), (4.0, 0.91179484593377902), (5.0, 0.92483311343923258)], [(0.0, 0.89139445322848476), (1.0, 0.87337859545644114), (2.0, 0.96817981655883523), (3.0, 0.92688685795065573), (4.0, 0.87414310699503983), (5.0, 0.82557053264155089)], [(0.0, 0.96737129113554576), (1.0, 0.94058324477968369), (2.0, 0.98136739268804662), (3.0, 0.9827565288611364), (4.0, 0.97602592444114744), (5.0, 0.97602592444114744)], [(0.0, 0.33519116274005262), (1.0, 0.58067827990992638), (2.0, 0.75200186345043118), (3.0, 0.79007437809392655), (4.0, 0.81188398681325891), (5.0, 0.82440491966613216)], [(0.0, 0.14520705558114794), (1.0, 0.68699437604037317), (2.0, 0.75420578788343751), (3.0, 0.7087718689670639), (4.0, 0.66511896027925188), (5.0, 0.64776006815403064)], [(-2.0, 500), (-3.0, 500)], [(-2.0, 500), (-3.0, 500)]]\n"
     ]
    },
    {
     "data": {
      "image/png": "[encoded data removed]",
      "text/plain": [
       "<matplotlib.figure.Figure at 0xaa2af10>"
      ]
     },
     "metadata": {},
     "output_type": "display_data"
    }
   ],
   "source": [
    "from matplotlib.ticker import MaxNLocator\n",
    "from matplotlib.colors import LinearSegmentedColormap\n",
    "\n",
    "\n",
    "#Define the overall plot, title and spacing\n",
    "fig, ax = plt.subplots(figsize=(6,11), nrows=5, ncols=2, sharex=True, sharey=True)\n",
    "fig.suptitle('Correlation Coefficients\\nfor the 10 Brightest Pulsars', fontsize=16)\n",
    "plt.subplots_adjust(wspace=0.075, hspace=0.1)\n",
    "\n",
    "# Evaluate an existing colormap from 0.5 (midpoint) to 1 (upper end)\n",
    "cmap = plt.get_cmap('plasma')\n",
    "colors = cmap(np.linspace(0, 0.75, cmap.N // 2))\n",
    "cmap = LinearSegmentedColormap.from_list('Lower Part', colors)\n",
    "\n",
    "X=range(0,5)\n",
    "C=range(0,5)\n",
    "\n",
    "##== Defining the first subplot - J1713 ==##\n",
    "\n",
    "days=(57305, 57302, 56380, 57319, 57041)\n",
    "SNR=(23922.71, 18328.92, 17140.46, 13989.67, 13117.22)\n",
    "plotjitter=OrderedDict()\n",
    "plotcorr=OrderedDict()\n",
    "for ii,jj in zip(days, SNR):\n",
    "    arrays=make_arrays('J1713+0747', ii) #arrays[0] is jitter, arrays[1] is corr\n",
    "    plotjitter[jj]=arrays[0]\n",
    "    plotcorr[jj]=arrays[1]\n",
    "\n",
    "x=[]\n",
    "y=[]\n",
    "z=[]\n",
    "ticks=[]\n",
    "for SNRval, data_dict in plotcorr.iteritems():\n",
    "    x.append(range(len(data_dict)))\n",
    "    y.append(data_dict.values())\n",
    "    z.append(SNRval)\n",
    "    ticks.append(data_dict.keys())\n",
    "    \n",
    "x=np.array(x)\n",
    "y=np.array(y)\n",
    "\n",
    "\n",
    "prelines=np.array(zip(x,y))\n",
    "lines = [zip(x,y) for x,y in prelines]\n",
    "\n",
    "print lines\n",
    "\n",
    "#Normalizing the color for highest and lowest SNR\n",
    "for _ in range(0,2):\n",
    "    lines.append([(-2.0, 500), (-3.0, 500)])\n",
    "\n",
    "print lines\n",
    "    \n",
    "for ii in (28200.0, 450.0):\n",
    "    z.append(ii)\n",
    "z=np.array(z)\n",
    "\n",
    "lines = LineCollection(lines, array=z, cmap=cmap, linewidths=1)\n",
    "ax[0,0].add_collection(lines)\n",
    "ax[0,0].axhline(0, color='grey', linestyle=\":\")\n",
    "\n",
    "ax[0,0].set_xlim(0,5)\n",
    "ax[0,0].set_ylim(-0.5,1.1)\n",
    "ax[0,0].yaxis.set_major_locator(MaxNLocator(prune='lower'))\n",
    "\n",
    "##== Defining the second subplot - J1022 ==##\n",
    "\n",
    "days=(57028, 57084, 57126, 57146, 57187, 57256) #, 57291, 57312, 57331, 57375)\n",
    "SNR=(23922.71, 18328.92, 17140.46, 13989.67, 13117.22, 18328.92) #, 17140.46, 13989.67, 13117.22, 15000.1)\n",
    "plotjitter=OrderedDict()\n",
    "plotcorr=OrderedDict()\n",
    "for ii,jj in zip(days, SNR):\n",
    "    arrays=make_arrays('J1022+1001', ii) #arrays[0] is jitter, arrays[1] is corr\n",
    "    plotjitter[jj]=arrays[0]\n",
    "    plotcorr[jj]=arrays[1]\n",
    "\n",
    "x=[]\n",
    "y=[]\n",
    "z=[]\n",
    "ticks=[]\n",
    "for SNRval, data_dict in plotcorr.iteritems():\n",
    "    x.append(range(len(data_dict)))\n",
    "    y.append(data_dict.values())\n",
    "    z.append(SNRval)\n",
    "    ticks.append(data_dict.keys())\n",
    "    \n",
    "x=np.array(x)\n",
    "y=np.array(y)\n",
    "z=np.array(z)\n",
    "\n",
    "prelines=np.array(zip(x,y))\n",
    "lines = [zip(x,y) for x,y in prelines]\n",
    "lines = LineCollection(lines, array=z, cmap=cmap, linewidths=1)\n",
    "ax[0,1].add_collection(lines)\n",
    "ax[0,1].axhline(0, color='grey', linestyle=\":\")\n",
    "\n",
    "ax[0,1].yaxis.set_major_locator(MaxNLocator(prune='lower'))\n",
    "\n",
    "\n",
    "ax[1,1].plot(X, C, linewidth=1.0, linestyle=\"-\")\n",
    "ax[2,0].plot(X, C, linewidth=1.0, linestyle=\"-\")\n",
    "ax[2,1].plot(X, C, linewidth=1.0, linestyle=\"-\")\n",
    "ax[3,0].plot(X, C, linewidth=1.0, linestyle=\"-\")\n",
    "ax[3,1].plot(X, C, linewidth=1.0, linestyle=\"-\")\n",
    "ax[4,0].plot(X, C, linewidth=1.0, linestyle=\"-\")\n",
    "ax[4,1].plot(X, C, linewidth=1.0, linestyle=\"-\")\n",
    "\n",
    "# plt.colorbar()\n",
    "\n",
    "\n",
    "plt.show()"
   ]
  },
  {
   "cell_type": "code",
   "execution_count": null,
   "metadata": {
    "collapsed": false
   },
   "outputs": [],
   "source": [
    "#Fun with dictionaries\n",
    "d=OrderedDict()\n",
    "print d\n",
    "d['dict1']=OrderedDict()\n",
    "print d\n",
    "d['dict1']['innerkey']='value'\n",
    "print d\n",
    "\n",
    "#To access the right dictionary values: http://stackoverflow.com/questions/21507956/plotting-dictionaries-within-a-dictionary-in-myplotlib-python"
   ]
  },
  {
   "cell_type": "code",
   "execution_count": 39,
   "metadata": {
    "collapsed": false
   },
   "outputs": [
    {
     "data": {
      "text/plain": [
       "<matplotlib.colorbar.Colorbar at 0x91e6690>"
      ]
     },
     "execution_count": 39,
     "metadata": {},
     "output_type": "execute_result"
    },
    {
     "data": {
      "image/png": "[encoded data removed]",
      "text/plain": [
       "<matplotlib.figure.Figure at 0x847e750>"
      ]
     },
     "metadata": {},
     "output_type": "display_data"
    },
    {
     "data": {
      "image/png": "[encoded data removed]",
      "text/plain": [
       "<matplotlib.figure.Figure at 0x7d74a90>"
      ]
     },
     "metadata": {},
     "output_type": "display_data"
    }
   ],
   "source": [
    "# days=(56201, 56577, 57305, 57302, 56458, 56380, 57319, 56934, 57041)\n",
    "# SNR=(42051.24, 28191.58, 23922.71, 18328.92, 17335.41, 17140.46, \n",
    "#      13989.67, 13668.18, 13117.22)\n",
    "days=(57305, 57302, 56380, 57319, 57041)\n",
    "SNR=(23922.71, 18328.92, 17140.46, 13989.67, 13117.22)\n",
    "\n",
    "\n",
    "plotjitter=OrderedDict()\n",
    "plotcorr=OrderedDict()\n",
    "for ii,jj in zip(days, SNR):\n",
    "    arrays=make_arrays('J1713+0747', ii) #arrays[0] is jitter, arrays[1] is corr\n",
    "    plotjitter[jj]=arrays[0]\n",
    "    plotcorr[jj]=arrays[1]\n",
    "\n",
    "\n",
    "fig, ax = plt.subplots()\n",
    "plt.title('Correlation Coefficient')\n",
    "x=[]\n",
    "y=[]\n",
    "z=[]\n",
    "ticks=[]\n",
    "for SNRval, data_dict in plotcorr.iteritems():\n",
    "    x.append(range(len(data_dict)))\n",
    "    y.append(data_dict.values())\n",
    "    z.append(SNRval)\n",
    "    ticks.append(data_dict.keys())\n",
    "    \n",
    "x=np.array(x)\n",
    "y=np.array(y)\n",
    "z=np.array(z)\n",
    "\n",
    "prelines=np.array(zip(x,y))\n",
    "lines = [zip(x,y) for x,y in prelines]\n",
    "lines = LineCollection(lines, array=z, cmap=plt.cm.plasma, linewidths=1)\n",
    "ax.add_collection(lines)\n",
    "ax.set_xlim(0,5)\n",
    "# ax.set_xticklabels('320', '160', '80', '40', '20')\n",
    "fig.colorbar(lines)\n",
    "\n",
    "fig, ax = plt.subplots()\n",
    "plt.title('Jitter Ratio')\n",
    "i=[]\n",
    "j=[]\n",
    "k=[]\n",
    "ticks=[]\n",
    "for SNRval, data_dict in plotjitter.iteritems():\n",
    "    i.append(range(len(data_dict)))\n",
    "    j.append(data_dict.values())\n",
    "    k.append(SNRval)\n",
    "    ticks.append(data_dict.keys())\n",
    "    \n",
    "i=np.array(i)\n",
    "j=np.array(j)\n",
    "k=np.array(k)\n",
    "\n",
    "prelines=np.array(zip(i,j))\n",
    "lines = [zip(a,b) for a,b in prelines]\n",
    "lines = LineCollection(lines, array=k, cmap=plt.cm.plasma, linewidths=1)\n",
    "ax.add_collection(lines)\n",
    "ax.set_ylim(1,10)\n",
    "ax.set_xlim(0,5)\n",
    "fig.colorbar(lines)\n",
    "\n",
    "\n",
    "\n",
    "# plt.figure()\n",
    "# plt.title('Correlation Coefficient')\n",
    "# for SNRval, data_dict in plotcorr.iteritems():\n",
    "#     x=range(len(data_dict))\n",
    "#     y=data_dict.values()\n",
    "#     plt.plot(x,y, label=str(SNRval))\n",
    "#     plt.xticks(range(len(data_dict)), data_dict.keys())\n",
    "#     plt.legend(bbox_to_anchor=(1, 1.04), loc=2, borderaxespad=0.75)\n",
    "    \n",
    "# plt.figure()\n",
    "# plt.title('Jitter Ratio')\n",
    "# for SNRval, data_dict in plotjitter.iteritems():\n",
    "#     x=range(len(data_dict))\n",
    "#     y=data_dict.values()\n",
    "#     plt.plot(x,y, label=str(SNRval))\n",
    "#     plt.xticks(range(len(data_dict)), data_dict.keys())\n",
    "#     plt.ylim(0,10)\n",
    "#     plt.legend(bbox_to_anchor=(1, 1.04), loc=2, borderaxespad=0.75)"
   ]
  },
  {
   "cell_type": "code",
   "execution_count": null,
   "metadata": {
    "collapsed": false
   },
   "outputs": [],
   "source": [
    "x=r.read_residuals(filename=\"/nimrod1/eschwab/residuals/J1713+0747_resid_56380_80F8.tmp\")"
   ]
  },
  {
   "cell_type": "code",
   "execution_count": null,
   "metadata": {
    "collapsed": false
   },
   "outputs": [],
   "source": [
    "nums = np.array(range(0,10))\n",
    "print nums\n",
    "freqs = np.array([10, 300, 10 ,10 ,10, 300, 10, 10 ,10 ,300])\n",
    "\n",
    "mask = (nums>3) & (nums<9) & (freqs>20)\n",
    "print mask\n",
    "\n",
    "print nums[mask]"
   ]
  },
  {
   "cell_type": "code",
   "execution_count": null,
   "metadata": {
    "collapsed": false
   },
   "outputs": [],
   "source": [
    "lis=open(\"tempo.lis\", 'r').readlines()\n",
    "print lis[252]"
   ]
  },
  {
   "cell_type": "code",
   "execution_count": 11,
   "metadata": {
    "collapsed": false
   },
   "outputs": [
    {
     "name": "stdout",
     "output_type": "stream",
     "text": [
      "[[[ 0  1  2  3]\n",
      "  [79 85 87 83]]\n",
      "\n",
      " [[ 0  1  2  3]\n",
      "  [65 71 74 68]]\n",
      "\n",
      " [[ 0  1  2  3]\n",
      "  [83 84 82 80]]]\n",
      "[[(0, 79), (1, 85), (2, 87), (3, 83)], [(0, 65), (1, 71), (2, 74), (3, 68)], [(0, 83), (1, 84), (2, 82), (3, 80)]]\n"
     ]
    },
    {
     "data": {
      "text/plain": [
       "<matplotlib.colorbar.Colorbar at 0x54151d0>"
      ]
     },
     "execution_count": 11,
     "metadata": {},
     "output_type": "execute_result"
    },
    {
     "data": {
      "image/png": "[encoded data removed]",
      "text/plain": [
       "<matplotlib.figure.Figure at 0x4e5e210>"
      ]
     },
     "metadata": {},
     "output_type": "display_data"
    }
   ],
   "source": [
    "Temp1 = [79, 85, 87, 83]\n",
    "Temp2 = [65, 71, 74, 68]\n",
    "Temp3 = [83, 84, 82, 80]\n",
    "Day = ['Mon', 'Tues', 'Weds', 'Thurs']\n",
    "Humidity = [92, 96, 91]\n",
    "\n",
    "weather1=OrderedDict()\n",
    "for ii,jj in zip(Day, Temp1):\n",
    "    weather1[ii]=jj\n",
    "    \n",
    "weather2=OrderedDict()\n",
    "for ii,jj in zip(Day, Temp2):\n",
    "    weather2[ii]=jj\n",
    "\n",
    "weather3=OrderedDict()\n",
    "for ii,jj in zip(Day, Temp3):\n",
    "    weather3[ii]=jj\n",
    "    \n",
    "allweather=[weather1, weather2, weather3]\n",
    "\n",
    "weather=OrderedDict()\n",
    "for ii, jj in zip(Humidity, allweather):\n",
    "    weather[ii]=jj\n",
    "\n",
    "#weather is an ordered dictionary\n",
    "\n",
    "fig, ax = plt.subplots()\n",
    "x=[]\n",
    "y=[]\n",
    "z=[]\n",
    "ticks=[]\n",
    "for colorvar, data_dict in weather.iteritems():\n",
    "    x.append(range(len(data_dict)))\n",
    "    y.append(data_dict.values())\n",
    "    z.append(colorvar)\n",
    "    ticks.append(data_dict.keys())\n",
    "\n",
    "x=np.array(x)\n",
    "y=np.array(y)\n",
    "z=np.array(z)\n",
    "\n",
    "prelines=np.array(zip(x,y))\n",
    "print prelines\n",
    "lines = [zip(x,y) for x,y in prelines]\n",
    "print lines\n",
    "lines = LineCollection(lines, array=z, cmap=plt.cm.cool, linewidths=1)\n",
    "ax.add_collection(lines)\n",
    "ax.set_ylim(60, 90)\n",
    "ax.set_xlim(0,3)\n",
    "fig.colorbar(lines)\n",
    "\n",
    "# lines=np.array(zip(x,y))\n",
    "# newlines = [zip(x,y) for x,y in lines]"
   ]
  },
  {
   "cell_type": "code",
   "execution_count": null,
   "metadata": {
    "collapsed": false
   },
   "outputs": [],
   "source": [
    "import matplotlib.pyplot as plt\n",
    "sm = plt.cm.ScalarMappable(cmap=plt.cm.cool, norm=plt.Normalize(vmin=10000, vmax=20000))\n",
    "Zs=z\n",
    "sm.set_array(Zs)\n",
    "plt.plot(x,y, c=Zs)\n",
    "plt.colorbar(sm)"
   ]
  },
  {
   "cell_type": "code",
   "execution_count": null,
   "metadata": {
    "collapsed": true
   },
   "outputs": [],
   "source": []
  }
 ],
 "metadata": {
  "kernelspec": {
   "display_name": "Python 2",
   "language": "python",
   "name": "python2"
  },
  "language_info": {
   "codemirror_mode": {
    "name": "ipython",
    "version": 2
   },
   "file_extension": ".py",
   "mimetype": "text/x-python",
   "name": "python",
   "nbconvert_exporter": "python",
   "pygments_lexer": "ipython2",
   "version": "2.7.3"
  }
 },
 "nbformat": 4,
 "nbformat_minor": 0
}
