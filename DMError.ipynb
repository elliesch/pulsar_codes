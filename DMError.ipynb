{
 "cells": [
  {
   "cell_type": "code",
   "execution_count": 4,
   "metadata": {
    "collapsed": false
   },
   "outputs": [],
   "source": [
    "import numpy as np\n",
    "import math\n",
    "import residuals as r\n",
    "\n",
    "np.set_printoptions(threshold=np.inf)\n",
    "np.set_printoptions(suppress=True)"
   ]
  },
  {
   "cell_type": "code",
   "execution_count": 54,
   "metadata": {
    "collapsed": false
   },
   "outputs": [],
   "source": [
    "def DM_error_check(resids_file, condition_lower, condition_upper, titlearg):\n",
    "    '''\n",
    "    Returns the average residual value for the highest and lowest frequency arrays.\n",
    "    '''\n",
    "\n",
    "    #Defining arrays\n",
    "    x=r.read_residuals(filename=resids_file)\n",
    "\n",
    "    condition=(x.bary_TOA > condition_lower) & (x.bary_TOA < condition_upper)\n",
    "\n",
    "    TOA=x.bary_TOA[condition]\n",
    "    Resid=x.prefit_sec[condition]\n",
    "    Freq=x.bary_freq[condition]\n",
    "    Error=x.uncertainty[condition]\n",
    "\n",
    "    #Isolating the different frequency possibilities\n",
    "    rounded = np.round(np.array([x.bary_freq[condition] - 0.5]))\n",
    "    frequencies=[]\n",
    "    for i in rounded[0]: \n",
    "        if i not in frequencies:\n",
    "            frequencies.append(i)\n",
    "\n",
    "\n",
    "    max_freq = max(frequencies)\n",
    "    min_freq = min(frequencies)\n",
    "\n",
    "    #Building the hi and lo freq residual arrays to check the standard deviation\n",
    "    HF_resids = Resid[rounded[0] == max_freq]\n",
    "    HF_errors = Error[rounded[0] == max_freq]\n",
    "    HF_weights = 1. / ((HF_errors)**2)\n",
    "\n",
    "    LF_resids = Resid[rounded[0] == min_freq]\n",
    "    LF_errors = Error[rounded[0] == min_freq]\n",
    "    LF_weights = 1. / ((LF_errors)**2)\n",
    "    \n",
    "    av_HF_resids = np.average(HF_resids, weights=HF_weights)\n",
    "    av_LF_resids = np.average(LF_resids, weights=LF_weights)\n",
    "\n",
    "    print titlearg\n",
    "    print \"Average High-Frequency Residual = \" + str(av_HF_resids)\n",
    "    print \"Average Low-Frequency Residual = \" + str(av_LF_resids)\n",
    "    \n",
    "    if av_HF_resids - av_LF_resids > 0.00001: #should I make these greater than the standard deviation?\n",
    "        print \"==>FLAG!\"\n",
    "    \n",
    "    if av_LF_resids - av_HF_resids > 0.00001:\n",
    "        print \"==>FLAG!\""
   ]
  },
  {
   "cell_type": "code",
   "execution_count": 56,
   "metadata": {
    "collapsed": true
   },
   "outputs": [],
   "source": [
    "arguments_list = [(\"/nimrod1/eschwab/residuals/J1713+0747_resid_56380_80F8.tmp\",\n",
    "                   56380.35, 56380.367, 'J1713+0747, MJD 56380, 80 second subintervals'),\n",
    "                  (\"/nimrod1/eschwab/residuals/J1713+0747_resid_56201_80F8.tmp\",\n",
    "                   56201.85, 56201.872, 'J1713+0747, MJD 56201, 80 second subintervals'), \n",
    "                  (\"/nimrod1/eschwab/residuals/B1937+21_resid_56465_80F8.tmp\",\n",
    "                   56465.3, 56465.32, 'B1937+21, MJD 56465, 80 second subintervals'),\n",
    "                  (\"/nimrod1/eschwab/residuals/J1022+1001_resid_57208_80F8.tmp\",\n",
    "                   57208.778, 57208.79, 'J1022+1001, MJD 57208, 80 second subintervals'),\n",
    "                  (\"/nimrod1/eschwab/residuals/J1022+1001_resid_57331_80F8.tmp\",\n",
    "                   57331.443, 57331.4595, 'J1022+1001, MJD 57331, 80 second subintervals'),\n",
    "                  (\"/nimrod1/eschwab/residuals/J2317+1439_resid_57273_80F8.tmp\",\n",
    "                   57273.196, 57273.217, 'J2317+1439, MJD 57273, 80 second subintervals'),\n",
    "                  (\"/nimrod1/eschwab/residuals/J2234+0944_resid_57069_80F8.tmp\", \n",
    "                   57069.7, 57069.72, 'J2234+0944, MJD 57069, 80 second subintervals'),\n",
    "                  (\"/nimrod1/eschwab/residuals/J1944+0907_resid_56627_80F8.tmp\",\n",
    "                   56627.77, 56627.805, 'J1944+0907, MJD 56627, 80 second subintervals'),\n",
    "                  (\"/nimrod1/eschwab/residuals/J2234+0611_resid_56843_80F8.tmp\",\n",
    "                   56843.315, 56843.335, 'J2234+0611, MJD 56843, 80 second subintervals'),\n",
    "                  (\"/nimrod1/eschwab/residuals/J2229+2643_resid_57234_80F8.tmp\",\n",
    "                   57234.255, 57234.275, 'J2229+2643, MJD 57234, 80 second subintervals'),\n",
    "                  (\"/nimrod1/eschwab/residuals/J0023+0923_resid_56023_80F8.tmp\",\n",
    "                   56023.66, 56023.68, 'J0023+0923, MJD 56023, 80 second subintervals'),\n",
    "                  (\"/nimrod1/eschwab/residuals/J1738+0333_resid_57124_80F8.tmp\",\n",
    "                   57124.352, 57124.37, 'J1738+0333, MJD 57124, 80 second subintervals'),\n",
    "                  (\"/nimrod1/eschwab/residuals/J2214+3000_resid_56739_80F8.tmp\",\n",
    "                   56739.63, 56739.66, 'J2214+3000, MJD 56739, 80 second subintervals')\n",
    "                 ]"
   ]
  },
  {
   "cell_type": "code",
   "execution_count": 55,
   "metadata": {
    "collapsed": false
   },
   "outputs": [
    {
     "name": "stdout",
     "output_type": "stream",
     "text": [
      "J1713+0747, MJD 56380, 80 second subintervals\n",
      "Average High-Frequency Residual = -3.16404477538e-07\n",
      "Average Low-Frequency Residual = -2.37805989986e-07\n",
      " \n",
      "J1713+0747, MJD 56201, 80 second subintervals\n",
      "Average High-Frequency Residual = 1.4823906175e-07\n",
      "Average Low-Frequency Residual = 2.29251330245e-07\n",
      " \n",
      "B1937+21, MJD 56465, 80 second subintervals\n",
      "Average High-Frequency Residual = -2.64594848244e-06\n",
      "Average Low-Frequency Residual = -2.78474746959e-06\n",
      " \n",
      "J1022+1001, MJD 57208, 80 second subintervals\n",
      "Average High-Frequency Residual = 6.97751853985e-07\n",
      "Average Low-Frequency Residual = -0.003403480748\n",
      "==>FLAG!\n",
      " \n",
      "J1022+1001, MJD 57331, 10 second subintervals\n",
      "Average High-Frequency Residual = -2.90681619628e-05\n",
      "Average Low-Frequency Residual = -2.69384202975e-05\n",
      " \n",
      "J2317+1439, MJD 57273, 80 second subintervals\n",
      "Average High-Frequency Residual = -0.000601930382694\n",
      "Average Low-Frequency Residual = 0.000135398738368\n",
      "==>FLAG!\n",
      " \n",
      "J2234+0944, MJD 57069, 80 second subintervals\n",
      "Average High-Frequency Residual = 1.65534506596e-06\n",
      "Average Low-Frequency Residual = 9.8166247437e-07\n",
      " \n",
      "J1944+0907, MJD 56627, 80 second subintervals\n",
      "Average High-Frequency Residual = 4.71151677263e-06\n",
      "Average Low-Frequency Residual = 0.0015745161526\n",
      "==>FLAG!\n",
      " \n",
      "J2234+0611, MJD 56843, 80 second subintervals\n",
      "Average High-Frequency Residual = 2.32208040753e-07\n",
      "Average Low-Frequency Residual = -0.000417727545356\n",
      "==>FLAG!\n",
      " \n",
      "J2229+2643, MJD 57234, 80 second subintervals\n",
      "Average High-Frequency Residual = -1.1574884878e-06\n",
      "Average Low-Frequency Residual = -1.39187808018e-06\n",
      " \n",
      "J0023+0923, MJD 56023, 80 second subintervals\n",
      "Average High-Frequency Residual = -0.000484209962462\n",
      "Average Low-Frequency Residual = -0.000483086296874\n",
      " \n",
      "J1738+0333, MJD 57124, 80 second subintervals\n",
      "Average High-Frequency Residual = 0.000660024539134\n",
      "Average Low-Frequency Residual = 0.000664335151597\n",
      " \n",
      "J2214+3000, MJD 56739, 80 second subintervals\n",
      "Average High-Frequency Residual = -2.2259388158e-06\n",
      "Average Low-Frequency Residual = -9.65301709396e-05\n",
      "==>FLAG!\n",
      " \n"
     ]
    }
   ],
   "source": [
    "for i in arguments_list:\n",
    "    DM_error_check(i[0], i[1], i[2], i[3])\n",
    "    print ' '"
   ]
  },
  {
   "cell_type": "code",
   "execution_count": null,
   "metadata": {
    "collapsed": true
   },
   "outputs": [],
   "source": []
  }
 ],
 "metadata": {
  "kernelspec": {
   "display_name": "Python 2",
   "language": "python",
   "name": "python2"
  },
  "language_info": {
   "codemirror_mode": {
    "name": "ipython",
    "version": 2
   },
   "file_extension": ".py",
   "mimetype": "text/x-python",
   "name": "python",
   "nbconvert_exporter": "python",
   "pygments_lexer": "ipython2",
   "version": "2.7.3"
  }
 },
 "nbformat": 4,
 "nbformat_minor": 0
}
