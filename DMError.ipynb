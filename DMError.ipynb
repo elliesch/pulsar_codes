{
 "cells": [
  {
   "cell_type": "code",
   "execution_count": 4,
   "metadata": {
    "collapsed": false
   },
   "outputs": [],
   "source": [
    "import numpy as np\n",
    "import math\n",
    "import residuals as r\n",
    "\n",
    "np.set_printoptions(threshold=np.inf)\n",
    "np.set_printoptions(suppress=True)"
   ]
  },
  {
   "cell_type": "code",
   "execution_count": 43,
   "metadata": {
    "collapsed": false
   },
   "outputs": [
    {
     "name": "stdout",
     "output_type": "stream",
     "text": [
      "PSR J1713+0747, MJD 56380, 80s subintervals\n",
      "Average High-Frequency Residual = -3.16404477538e-07\n",
      "Average Low-Frequency Residual = -2.37805989986e-07\n"
     ]
    }
   ],
   "source": [
    "def DM_error_check(resids_file)\n",
    "\n",
    "#Defining arrays\n",
    "x=r.read_residuals(filename=resids_file, condition_lower, condition_upper, titlearg)\n",
    "\n",
    "condition=(x.bary_TOA > condition_lower) & (x.bary_TOA < condition_upper)\n",
    "\n",
    "TOA=x.bary_TOA[condition]\n",
    "Resid=x.prefit_sec[condition]\n",
    "Freq=x.bary_freq[condition]\n",
    "Error=x.uncertainty[condition]\n",
    "\n",
    "#Isolating the different frequency possibilities\n",
    "rounded = np.round(np.array([x.bary_freq[condition] - 0.5]))\n",
    "frequencies=[]\n",
    "for i in rounded[0]: \n",
    "    if i not in frequencies:\n",
    "        frequencies.append(i)\n",
    "\n",
    "\n",
    "max_freq = max(frequencies)\n",
    "min_freq = min(frequencies)\n",
    "\n",
    "\n",
    "#Building the hi and lo freq residual arrays to check the standard deviation\n",
    "HF_resids = Resid[rounded[0] == max_freq]\n",
    "HF_errors = Error[rounded[0] == max_freq]\n",
    "HF_weights = 1. / ((HF_errors)**2)\n",
    "\n",
    "LF_resids = Resid[rounded[0] == min_freq]\n",
    "LF_errors = Error[rounded[0] == min_freq]\n",
    "LF_weights = 1. / ((LF_errors)**2)\n",
    "\n",
    "print \"PSR J1713+0747, MJD 56380, 80s subintervals\"\n",
    "print \"Average High-Frequency Residual = \" + str(np.average(HF_resids, weights=HF_weights))\n",
    "print \"Average Low-Frequency Residual = \" + str(np.average(LF_resids, weights=LF_weights))"
   ]
  },
  {
   "cell_type": "code",
   "execution_count": null,
   "metadata": {
    "collapsed": true
   },
   "outputs": [],
   "source": []
  }
 ],
 "metadata": {
  "kernelspec": {
   "display_name": "Python 2",
   "language": "python",
   "name": "python2"
  },
  "language_info": {
   "codemirror_mode": {
    "name": "ipython",
    "version": 2
   },
   "file_extension": ".py",
   "mimetype": "text/x-python",
   "name": "python",
   "nbconvert_exporter": "python",
   "pygments_lexer": "ipython2",
   "version": "2.7.3"
  }
 },
 "nbformat": 4,
 "nbformat_minor": 0
}
