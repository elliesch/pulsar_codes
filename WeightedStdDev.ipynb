{
 "cells": [
  {
   "cell_type": "code",
   "execution_count": 5,
   "metadata": {
    "collapsed": true
   },
   "outputs": [],
   "source": [
    "import numpy as np\n",
    "import math\n",
    "import residuals as r"
   ]
  },
  {
   "cell_type": "code",
   "execution_count": 59,
   "metadata": {
    "collapsed": true
   },
   "outputs": [],
   "source": [
    "# I am defining the weighted standard deviation according to this definition:\n",
    "# https://en.wikipedia.org/wiki/Weighted_arithmetic_mean#Weighted_sample_variance\n",
    "# I am using the inverse square of the error arrays to define the weights\n",
    "\n",
    "def weighted_stddev(values, errors):\n",
    "    '''\n",
    "    Return the weighted average and standard deviation.\n",
    "\n",
    "    '''\n",
    "    weights = 1 / ((errors)**2)\n",
    "    average = np.average(values, weights=weights)\n",
    "    variance = np.average((values-average)**2, weights=weights)  # Fast and numerically precise\n",
    "    return (math.sqrt(variance))\n",
    "\n",
    "def jitter_ratio(allresids_file, dumpresids_file, condition_lower, condition_upper, titlearg):\n",
    "    '''\n",
    "    Return the ratio of sigma_dump over sigma_all.\n",
    "\n",
    "    '''\n",
    "    \n",
    "    #Define sigma_all (or std_all)\n",
    "    y=r.read_residuals(filename=allresids_file)\n",
    "    FullResid = y.prefit_sec\n",
    "    FullErrors = y.uncertainty\n",
    "    std_all = weighted_stddev(FullResid, FullErrors)\n",
    "    \n",
    "    #=======\n",
    "    \n",
    "    #Define sigma_dump (or std_dump)\n",
    "    x=r.read_residuals(filename=dumpresids_file)\n",
    "\n",
    "    condition = (x.bary_TOA > condition_lower) & (x.bary_TOA < condition_upper)\n",
    "    Resid = x.prefit_sec[condition]\n",
    "    Errors = x.uncertainty[condition]\n",
    "    std_dump = weighted_stddev(Resid, Errors)\n",
    "    \n",
    "    #Setup jitter ratio\n",
    "    ratio = std_dump / std_all\n",
    "    \n",
    "    print titlearg\n",
    "    print std_dump\n",
    "    print \"jitter ratio = \" + str(ratio)"
   ]
  },
  {
   "cell_type": "code",
   "execution_count": 60,
   "metadata": {
    "collapsed": false
   },
   "outputs": [
    {
     "name": "stdout",
     "output_type": "stream",
     "text": [
      "J1713+0747, MJD 56380, 80 second subintervals\n",
      "2.44415585816e-07\n",
      "jitter ratio = 0.255675316386\n"
     ]
    }
   ],
   "source": [
    "jitter_ratio(\"/nimrod1/eschwab/residuals/residJ1713_-56380.tmp\",\n",
    "             \"/nimrod1/eschwab/residuals/resid_56380_80F8.tmp\",\n",
    "            56380.35, 56380.367, 'J1713+0747, MJD 56380, 80 second subintervals')"
   ]
  },
  {
   "cell_type": "code",
   "execution_count": 61,
   "metadata": {
    "collapsed": false
   },
   "outputs": [
    {
     "name": "stdout",
     "output_type": "stream",
     "text": [
      "J1713+0747, MJD 56380, 10 second subintervals\n",
      "5.82671845721e-07\n",
      "jitter ratio = 0.609514356488\n"
     ]
    }
   ],
   "source": [
    "jitter_ratio(\"/nimrod1/eschwab/residuals/residJ1713_-56380.tmp\",\n",
    "             \"/nimrod1/eschwab/residuals/resid_56380_NTF8.tmp\",\n",
    "            56380.35, 56380.367, 'J1713+0747, MJD 56380, 10 second subintervals')"
   ]
  },
  {
   "cell_type": "code",
   "execution_count": 62,
   "metadata": {
    "collapsed": false
   },
   "outputs": [
    {
     "name": "stdout",
     "output_type": "stream",
     "text": [
      "J1713+0747, MJD 56201, 80 second subintervals\n",
      "1.73501235065e-07\n",
      "jitter ratio = 0.336446382855\n"
     ]
    }
   ],
   "source": [
    "jitter_ratio(\"/nimrod1/eschwab/residuals/residJ1713_-56201.tmp\",\n",
    "             \"/nimrod1/eschwab/residuals/resid_56201_80F8.tmp\",\n",
    "            56201.85, 56201.872, 'J1713+0747, MJD 56201, 80 second subintervals')"
   ]
  },
  {
   "cell_type": "code",
   "execution_count": 64,
   "metadata": {
    "collapsed": false
   },
   "outputs": [
    {
     "name": "stdout",
     "output_type": "stream",
     "text": [
      "J1713+0747, MJD 56201, 10 second subintervals\n",
      "5.43224438005e-07\n",
      "jitter ratio = 1.05339824916\n"
     ]
    }
   ],
   "source": [
    "jitter_ratio(\"/nimrod1/eschwab/residuals/residJ1713_-56201.tmp\",\n",
    "             \"/nimrod1/eschwab/residuals/resid_56201_NTF8.tmp\",\n",
    "            56201.85, 56201.872, 'J1713+0747, MJD 56201, 10 second subintervals')"
   ]
  },
  {
   "cell_type": "code",
   "execution_count": 65,
   "metadata": {
    "collapsed": false
   },
   "outputs": [
    {
     "name": "stdout",
     "output_type": "stream",
     "text": [
      "B1937+21, MJD 56465, 80 second subintervals\n",
      "4.68059107539e-08\n",
      "jitter ratio = 0.117597715425\n"
     ]
    }
   ],
   "source": [
    "jitter_ratio(\"/nimrod1/eschwab/residuals/residB1937_-56465.tmp\",\n",
    "             \"/nimrod1/eschwab/residuals/resid_56465_80F8.tmp\",\n",
    "            56465.3, 56465.32, 'B1937+21, MJD 56465, 80 second subintervals')"
   ]
  },
  {
   "cell_type": "code",
   "execution_count": 66,
   "metadata": {
    "collapsed": false
   },
   "outputs": [
    {
     "name": "stdout",
     "output_type": "stream",
     "text": [
      "B1937+21, MJD 56465, 10 second subintervals\n",
      "7.05138954322e-08\n",
      "jitter ratio = 0.177162945341\n"
     ]
    }
   ],
   "source": [
    "jitter_ratio(\"/nimrod1/eschwab/residuals/residB1937_-56465.tmp\",\n",
    "             \"/nimrod1/eschwab/residuals/resid_56465_NTF8.tmp\",\n",
    "            56465.3, 56465.32, 'B1937+21, MJD 56465, 10 second subintervals')"
   ]
  },
  {
   "cell_type": "code",
   "execution_count": null,
   "metadata": {
    "collapsed": true
   },
   "outputs": [],
   "source": []
  }
 ],
 "metadata": {
  "kernelspec": {
   "display_name": "Python 2",
   "language": "python",
   "name": "python2"
  },
  "language_info": {
   "codemirror_mode": {
    "name": "ipython",
    "version": 2
   },
   "file_extension": ".py",
   "mimetype": "text/x-python",
   "name": "python",
   "nbconvert_exporter": "python",
   "pygments_lexer": "ipython2",
   "version": "2.7.3"
  }
 },
 "nbformat": 4,
 "nbformat_minor": 0
}
