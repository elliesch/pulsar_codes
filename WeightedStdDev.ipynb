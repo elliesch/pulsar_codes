{
 "cells": [
  {
   "cell_type": "code",
   "execution_count": 5,
   "metadata": {
    "collapsed": true
   },
   "outputs": [],
   "source": [
    "import numpy as np\n",
    "import math\n",
    "import residuals as r"
   ]
  },
  {
   "cell_type": "code",
   "execution_count": 9,
   "metadata": {
    "collapsed": true
   },
   "outputs": [],
   "source": [
    "#using inverse square of the error arrays to define the weights\n",
    "\n",
    "def weighted_stddev(values, errors):\n",
    "    '''\n",
    "    Return the weighted average and standard deviation.\n",
    "\n",
    "    '''\n",
    "    weights = 1 / ((errors)**2)\n",
    "    average = np.average(values, weights=weights)\n",
    "    variance = np.average((values-average)**2, weights=weights)  # Fast and numerically precise\n",
    "    return (math.sqrt(variance))\n",
    "\n",
    "def jitter_ratio(std_dump, std_all):\n",
    "    '''\n",
    "    Return the ratio of sigma_dump over sigma_all.\n",
    "\n",
    "    '''\n",
    "    ratio = std_dump / std_all\n",
    "    print \"jitter ratio = \" + str(ratio)"
   ]
  },
  {
   "cell_type": "code",
   "execution_count": 19,
   "metadata": {
    "collapsed": false
   },
   "outputs": [
    {
     "name": "stdout",
     "output_type": "stream",
     "text": [
      "MJD 56380, 80 second subintervals\n",
      "2.44415585816e-07\n",
      " \n",
      "MJD 56380, 10 second subintervals\n",
      "5.82671845721e-07\n"
     ]
    }
   ],
   "source": [
    "#J1713+0747, MJD 56380\n",
    "\n",
    "print 'MJD 56380, 80 second subintervals'\n",
    "x=r.read_residuals(filename=\"/nimrod1/eschwab/residuals/resid_56380_80F8.tmp\")\n",
    "\n",
    "condition=(x.bary_TOA > 56380.35) & (x.bary_TOA < 56380.367)\n",
    "Resid=x.prefit_sec[condition]\n",
    "Errors=x.uncertainty[condition]\n",
    "\n",
    "std_dump = weighted_stddev(Resid, Errors)\n",
    "print std_dump\n",
    "\n",
    "##===================\n",
    "print ' '\n",
    "print 'MJD 56380, 10 second subintervals'\n",
    "x=r.read_residuals(filename=\"/nimrod1/eschwab/residuals/resid_56380_NTF8.tmp\")\n",
    "\n",
    "condition=(x.bary_TOA > 56380.35) & (x.bary_TOA < 56380.367)\n",
    "Resid=x.prefit_sec[condition]\n",
    "Errors=x.uncertainty[condition]\n",
    "\n",
    "std_dump = weighted_stddev(Resid, Errors)\n",
    "print std_dump"
   ]
  },
  {
   "cell_type": "code",
   "execution_count": 21,
   "metadata": {
    "collapsed": false
   },
   "outputs": [
    {
     "name": "stdout",
     "output_type": "stream",
     "text": [
      "MJD 56201, 80 second subintervals\n",
      "1.73501235065e-07\n",
      " \n",
      "MJD 56201, 10 second subintervals\n",
      "5.43224438005e-07\n"
     ]
    }
   ],
   "source": [
    "#J1713+0747, MJD 56201\n",
    "\n",
    "print 'MJD 56201, 80 second subintervals'\n",
    "x=r.read_residuals(filename=\"/nimrod1/eschwab/residuals/resid_56201_80F8.tmp\")\n",
    "\n",
    "condition=(x.bary_TOA > 56201.85) & (x.bary_TOA < 56201.872)\n",
    "Resid=x.prefit_sec[condition]\n",
    "Errors=x.uncertainty[condition]\n",
    "\n",
    "std_dump = weighted_stddev(Resid, Errors)\n",
    "print std_dump\n",
    "\n",
    "##===================\n",
    "print ' '\n",
    "print 'MJD 56201, 10 second subintervals'\n",
    "x=r.read_residuals(filename=\"/nimrod1/eschwab/residuals/resid_56201_NTF8.tmp\")\n",
    "\n",
    "condition=(x.bary_TOA > 56201.85) & (x.bary_TOA < 56201.872)\n",
    "Resid=x.prefit_sec[condition]\n",
    "Errors=x.uncertainty[condition]\n",
    "\n",
    "std_dump = weighted_stddev(Resid, Errors)\n",
    "print std_dump"
   ]
  },
  {
   "cell_type": "code",
   "execution_count": 22,
   "metadata": {
    "collapsed": false
   },
   "outputs": [
    {
     "name": "stdout",
     "output_type": "stream",
     "text": [
      "MJD 56465, 80 second subintervals\n",
      "4.68059107539e-08\n",
      " \n",
      "MJD 56201, 10 second subintervals\n",
      "7.05138954322e-08\n"
     ]
    }
   ],
   "source": [
    "#J1937+21, MJD 56465\n",
    "\n",
    "print 'MJD 56465, 80 second subintervals'\n",
    "x=r.read_residuals(filename=\"/nimrod1/eschwab/residuals/resid_56465_80F8.tmp\")\n",
    "\n",
    "condition=(x.bary_TOA > 56465.3) & (x.bary_TOA < 56465.32)\n",
    "Resid=x.prefit_sec[condition]\n",
    "Errors=x.uncertainty[condition]\n",
    "\n",
    "std_dump = weighted_stddev(Resid, Errors)\n",
    "print std_dump\n",
    "\n",
    "##===================\n",
    "print ' '\n",
    "print 'MJD 56201, 10 second subintervals'\n",
    "x=r.read_residuals(filename=\"/nimrod1/eschwab/residuals/resid_56465_NTF8.tmp\")\n",
    "\n",
    "condition=(x.bary_TOA > 56465.3) & (x.bary_TOA < 56465.32)\n",
    "Resid=x.prefit_sec[condition]\n",
    "Errors=x.uncertainty[condition]\n",
    "\n",
    "std_dump = weighted_stddev(Resid, Errors)\n",
    "print std_dump"
   ]
  },
  {
   "cell_type": "code",
   "execution_count": null,
   "metadata": {
    "collapsed": true
   },
   "outputs": [],
   "source": []
  }
 ],
 "metadata": {
  "kernelspec": {
   "display_name": "Python 2",
   "language": "python",
   "name": "python2"
  },
  "language_info": {
   "codemirror_mode": {
    "name": "ipython",
    "version": 2
   },
   "file_extension": ".py",
   "mimetype": "text/x-python",
   "name": "python",
   "nbconvert_exporter": "python",
   "pygments_lexer": "ipython2",
   "version": "2.7.3"
  }
 },
 "nbformat": 4,
 "nbformat_minor": 0
}
