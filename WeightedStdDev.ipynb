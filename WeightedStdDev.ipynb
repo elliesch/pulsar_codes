{
 "cells": [
  {
   "cell_type": "code",
   "execution_count": 5,
   "metadata": {
    "collapsed": true
   },
   "outputs": [],
   "source": [
    "import numpy as np\n",
    "import math\n",
    "import residuals as r"
   ]
  },
  {
   "cell_type": "code",
   "execution_count": 9,
   "metadata": {
    "collapsed": true
   },
   "outputs": [],
   "source": [
    "#using inverse square of the error arrays to define the weights\n",
    "\n",
    "def weighted_stddev(values, errors):\n",
    "    '''\n",
    "    Return the weighted average and standard deviation.\n",
    "\n",
    "    '''\n",
    "    weights = 1 / ((errors)**2)\n",
    "    average = np.average(values, weights=weights)\n",
    "    variance = np.average((values-average)**2, weights=weights)  # Fast and numerically precise\n",
    "    return (math.sqrt(variance))\n",
    "\n",
    "def jitter_ratio(std_dump, std_all):\n",
    "    '''\n",
    "    Return the ratio of sigma_dump over sigma_all.\n",
    "\n",
    "    '''\n",
    "    ratio = std_dump / std_all\n",
    "    print \"jitter ratio = \" + str(ratio)"
   ]
  },
  {
   "cell_type": "code",
   "execution_count": 15,
   "metadata": {
    "collapsed": false
   },
   "outputs": [
    {
     "name": "stdout",
     "output_type": "stream",
     "text": [
      "MJD 56380, 80 second subintervals\n",
      "2.44415585816e-07\n",
      " \n",
      "MJD 56380, 10 second subintervals\n",
      "5.82671845721e-07\n"
     ]
    }
   ],
   "source": [
    "#J1937+0747, MJD 56380\n",
    "\n",
    "print 'MJD 56380, 80 second subintervals'\n",
    "x=r.read_residuals(filename=\"/nimrod1/eschwab/residuals/resid_56380_80F8.tmp\")\n",
    "\n",
    "condition=(x.bary_TOA > 56380.35) & (x.bary_TOA < 56380.367)\n",
    "Resid=x.prefit_sec[condition]\n",
    "Errors=x.uncertainty[condition]\n",
    "\n",
    "std_dump = weighted_stddev(Resid, Errors)\n",
    "print std_dump\n",
    "\n",
    "##===================\n",
    "print ' '\n",
    "print 'MJD 56380, 10 second subintervals'\n",
    "x=r.read_residuals(filename=\"/nimrod1/eschwab/residuals/resid_56380_NTF8.tmp\")\n",
    "\n",
    "condition=(x.bary_TOA > 56380.35) & (x.bary_TOA < 56380.367)\n",
    "Resid=x.prefit_sec[condition]\n",
    "Errors=x.uncertainty[condition]\n",
    "\n",
    "std_dump = weighted_stddev(Resid, Errors)\n",
    "print std_dump"
   ]
  },
  {
   "cell_type": "code",
   "execution_count": 17,
   "metadata": {
    "collapsed": false
   },
   "outputs": [
    {
     "name": "stdout",
     "output_type": "stream",
     "text": [
      "MJD 56201, 80 second subintervals\n"
     ]
    },
    {
     "ename": "ZeroDivisionError",
     "evalue": "Weights sum to zero, can't be normalized",
     "output_type": "error",
     "traceback": [
      "\u001b[1;31m---------------------------------------------------------------------------\u001b[0m",
      "\u001b[1;31mZeroDivisionError\u001b[0m                         Traceback (most recent call last)",
      "\u001b[1;32m<ipython-input-17-290f9939d07a>\u001b[0m in \u001b[0;36m<module>\u001b[1;34m()\u001b[0m\n\u001b[0;32m      8\u001b[0m \u001b[0mErrors\u001b[0m\u001b[1;33m=\u001b[0m\u001b[0mx\u001b[0m\u001b[1;33m.\u001b[0m\u001b[0muncertainty\u001b[0m\u001b[1;33m[\u001b[0m\u001b[0mcondition\u001b[0m\u001b[1;33m]\u001b[0m\u001b[1;33m\u001b[0m\u001b[0m\n\u001b[0;32m      9\u001b[0m \u001b[1;33m\u001b[0m\u001b[0m\n\u001b[1;32m---> 10\u001b[1;33m \u001b[0mstd_dump\u001b[0m \u001b[1;33m=\u001b[0m \u001b[0mweighted_stddev\u001b[0m\u001b[1;33m(\u001b[0m\u001b[0mResid\u001b[0m\u001b[1;33m,\u001b[0m \u001b[0mErrors\u001b[0m\u001b[1;33m)\u001b[0m\u001b[1;33m\u001b[0m\u001b[0m\n\u001b[0m\u001b[0;32m     11\u001b[0m \u001b[1;32mprint\u001b[0m \u001b[0mstd_dump\u001b[0m\u001b[1;33m\u001b[0m\u001b[0m\n\u001b[0;32m     12\u001b[0m \u001b[1;33m\u001b[0m\u001b[0m\n",
      "\u001b[1;32m<ipython-input-9-f9a53dd3e931>\u001b[0m in \u001b[0;36mweighted_stddev\u001b[1;34m(values, errors)\u001b[0m\n\u001b[0;32m      7\u001b[0m     '''\n\u001b[0;32m      8\u001b[0m     \u001b[0mweights\u001b[0m \u001b[1;33m=\u001b[0m \u001b[1;36m1\u001b[0m \u001b[1;33m/\u001b[0m \u001b[1;33m(\u001b[0m\u001b[1;33m(\u001b[0m\u001b[0merrors\u001b[0m\u001b[1;33m)\u001b[0m\u001b[1;33m**\u001b[0m\u001b[1;36m2\u001b[0m\u001b[1;33m)\u001b[0m\u001b[1;33m\u001b[0m\u001b[0m\n\u001b[1;32m----> 9\u001b[1;33m     \u001b[0maverage\u001b[0m \u001b[1;33m=\u001b[0m \u001b[0mnp\u001b[0m\u001b[1;33m.\u001b[0m\u001b[0maverage\u001b[0m\u001b[1;33m(\u001b[0m\u001b[0mvalues\u001b[0m\u001b[1;33m,\u001b[0m \u001b[0mweights\u001b[0m\u001b[1;33m=\u001b[0m\u001b[0mweights\u001b[0m\u001b[1;33m)\u001b[0m\u001b[1;33m\u001b[0m\u001b[0m\n\u001b[0m\u001b[0;32m     10\u001b[0m     \u001b[0mvariance\u001b[0m \u001b[1;33m=\u001b[0m \u001b[0mnp\u001b[0m\u001b[1;33m.\u001b[0m\u001b[0maverage\u001b[0m\u001b[1;33m(\u001b[0m\u001b[1;33m(\u001b[0m\u001b[0mvalues\u001b[0m\u001b[1;33m-\u001b[0m\u001b[0maverage\u001b[0m\u001b[1;33m)\u001b[0m\u001b[1;33m**\u001b[0m\u001b[1;36m2\u001b[0m\u001b[1;33m,\u001b[0m \u001b[0mweights\u001b[0m\u001b[1;33m=\u001b[0m\u001b[0mweights\u001b[0m\u001b[1;33m)\u001b[0m  \u001b[1;31m# Fast and numerically precise\u001b[0m\u001b[1;33m\u001b[0m\u001b[0m\n\u001b[0;32m     11\u001b[0m     \u001b[1;32mreturn\u001b[0m \u001b[1;33m(\u001b[0m\u001b[0mmath\u001b[0m\u001b[1;33m.\u001b[0m\u001b[0msqrt\u001b[0m\u001b[1;33m(\u001b[0m\u001b[0mvariance\u001b[0m\u001b[1;33m)\u001b[0m\u001b[1;33m)\u001b[0m\u001b[1;33m\u001b[0m\u001b[0m\n",
      "\u001b[1;32m/usr/local/lib/python2.7/dist-packages/numpy/lib/function_base.pyc\u001b[0m in \u001b[0;36maverage\u001b[1;34m(a, axis, weights, returned)\u001b[0m\n\u001b[0;32m    592\u001b[0m         \u001b[1;32mif\u001b[0m \u001b[1;33m(\u001b[0m\u001b[0mscl\u001b[0m \u001b[1;33m==\u001b[0m \u001b[1;36m0.0\u001b[0m\u001b[1;33m)\u001b[0m\u001b[1;33m.\u001b[0m\u001b[0many\u001b[0m\u001b[1;33m(\u001b[0m\u001b[1;33m)\u001b[0m\u001b[1;33m:\u001b[0m\u001b[1;33m\u001b[0m\u001b[0m\n\u001b[0;32m    593\u001b[0m             raise ZeroDivisionError(\n\u001b[1;32m--> 594\u001b[1;33m                 \"Weights sum to zero, can't be normalized\")\n\u001b[0m\u001b[0;32m    595\u001b[0m \u001b[1;33m\u001b[0m\u001b[0m\n\u001b[0;32m    596\u001b[0m         \u001b[0mavg\u001b[0m \u001b[1;33m=\u001b[0m \u001b[0mnp\u001b[0m\u001b[1;33m.\u001b[0m\u001b[0mmultiply\u001b[0m\u001b[1;33m(\u001b[0m\u001b[0ma\u001b[0m\u001b[1;33m,\u001b[0m \u001b[0mwgt\u001b[0m\u001b[1;33m)\u001b[0m\u001b[1;33m.\u001b[0m\u001b[0msum\u001b[0m\u001b[1;33m(\u001b[0m\u001b[0maxis\u001b[0m\u001b[1;33m)\u001b[0m\u001b[1;33m/\u001b[0m\u001b[0mscl\u001b[0m\u001b[1;33m\u001b[0m\u001b[0m\n",
      "\u001b[1;31mZeroDivisionError\u001b[0m: Weights sum to zero, can't be normalized"
     ]
    }
   ],
   "source": [
    "#J1937+0747, MJD 56201\n",
    "\n",
    "print 'MJD 56201, 80 second subintervals'\n",
    "x=r.read_residuals(filename=\"/nimrod1/eschwab/residuals/resid_56201_80F8.tmp\")\n",
    "\n",
    "condition=(x.bary_TOA > 56380.35) & (x.bary_TOA < 56380.367)\n",
    "Resid=x.prefit_sec[condition]\n",
    "Errors=x.uncertainty[condition]\n",
    "\n",
    "std_dump = weighted_stddev(Resid, Errors)\n",
    "print std_dump\n",
    "\n",
    "##===================\n",
    "print ' '\n",
    "print 'MJD 56201, 10 second subintervals'\n",
    "x=r.read_residuals(filename=\"/nimrod1/eschwab/residuals/resid_56201_NTF8.tmp\")\n",
    "\n",
    "condition=(x.bary_TOA > 56201.85) & (x.bary_TOA < 56201.872)\n",
    "Resid=x.prefit_sec[condition]\n",
    "Errors=x.uncertainty[condition]\n",
    "\n",
    "std_dump = weighted_stddev(Resid, Errors)\n",
    "print std_dump"
   ]
  },
  {
   "cell_type": "code",
   "execution_count": null,
   "metadata": {
    "collapsed": true
   },
   "outputs": [],
   "source": []
  }
 ],
 "metadata": {
  "kernelspec": {
   "display_name": "Python 2",
   "language": "python",
   "name": "python2"
  },
  "language_info": {
   "codemirror_mode": {
    "name": "ipython",
    "version": 2
   },
   "file_extension": ".py",
   "mimetype": "text/x-python",
   "name": "python",
   "nbconvert_exporter": "python",
   "pygments_lexer": "ipython2",
   "version": "2.7.3"
  }
 },
 "nbformat": 4,
 "nbformat_minor": 0
}
