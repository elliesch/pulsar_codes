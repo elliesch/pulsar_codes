{
 "cells": [
  {
   "cell_type": "code",
   "execution_count": 1,
   "metadata": {
    "collapsed": false
   },
   "outputs": [],
   "source": [
    "import numpy as np\n",
    "import math\n",
    "import residuals as r\n",
    "\n",
    "np.set_printoptions(threshold=np.inf)\n",
    "np.set_printoptions(suppress=True)"
   ]
  },
  {
   "cell_type": "code",
   "execution_count": 36,
   "metadata": {
    "collapsed": false
   },
   "outputs": [],
   "source": [
    "# I am defining the weighted standard deviation according to this definition:\n",
    "# https://en.wikipedia.org/wiki/Weighted_arithmetic_mean#Weighted_sample_variance\n",
    "# I am using the inverse square of the error arrays to define the weights\n",
    "\n",
    "# factor10 = math.sqrt((25*60)/10.0) \n",
    "# factor80 = math.sqrt((25*60)/80.0) \n",
    "\n",
    "\n",
    "def weighted_stddev(values, errors):\n",
    "    '''\n",
    "    Return the weighted average and standard deviation.\n",
    "\n",
    "    '''\n",
    "    weights = 1. / ((errors)**2)\n",
    "    average = np.average(values, weights=weights)\n",
    "    variance = np.average((values-average)**2, weights=weights)  # Fast and numerically precise\n",
    "    return (math.sqrt(variance))\n",
    "\n",
    "def magnitude(x):\n",
    "    var = float(x)\n",
    "    return int(math.floor(math.log10(var)))\n",
    "\n",
    "\n",
    "def jitter_ratio(resids_file, condition_lower, condition_upper, titlearg):\n",
    "    '''\n",
    "    Return the ratio of sigma_dump over sigma_all.\n",
    "    \n",
    "    Added the correlation coefficient too, so we can easily compare here.\n",
    "\n",
    "    '''\n",
    "    \n",
    "    #Define sigma_all (or std_all) as entire observation period\n",
    "    x=r.read_residuals(filename=resids_file)\n",
    "\n",
    "    condition = (x.bary_TOA > condition_lower) & (x.bary_TOA < condition_upper)\n",
    "    Resid_all = x.prefit_sec[condition]\n",
    "    Errors_all = x.uncertainty[condition]\n",
    "    std_all = weighted_stddev(Resid_all, Errors_all)\n",
    "    \n",
    "    ##============\n",
    "    \n",
    "    #Define sigma_dump (or std_all) as individual dumps within observation period\n",
    "    \n",
    "    #This isolates the numbers for the different dump times\n",
    "    rounded = np.round(np.array([x.bary_TOA[condition] - 0.00005]), 4)\n",
    "    dumptimes=[]\n",
    "    for i in rounded.tolist()[0]: \n",
    "        if i not in dumptimes:\n",
    "            dumptimes.append(i)\n",
    "\n",
    "    #This calculates a list of sigma_dump values and averages those\n",
    "    str_dump_devs=[]\n",
    "    for i in dumptimes:\n",
    "        timeindex = (rounded == i)[0]\n",
    "        Resid = Resid_all[timeindex]\n",
    "        Errors = Errors_all[timeindex]\n",
    "        single_std_dump = weighted_stddev(Resid, Errors)\n",
    "        str_dump_devs.append(single_std_dump)\n",
    "    \n",
    "    #to convert str_dump_devs out of scientific notation\n",
    "    dump_devs=[]\n",
    "    for i in str_dump_devs:\n",
    "        dump_devs.append('{0:.20f}'.format(i))\n",
    "        \n",
    "    #prints the magnitude of each sigma_dump in a list and finds average magnitude\n",
    "    magarray=[]\n",
    "    for i in dump_devs:\n",
    "        magarray.append(magnitude(i))\n",
    "    averagemag = round(np.mean(magarray))\n",
    "    \n",
    "    arg=averagemag+1.5\n",
    "    makemask = np.ma.masked_where(np.array(magarray) > arg, np.array(magarray))\n",
    "    \n",
    "    std_dump=np.mean(str_dump_devs)\n",
    "    masked_std_dump = np.mean(np.ma.masked_where(np.ma.getmask(makemask), str_dump_devs))\n",
    "    \n",
    "    #Setup jitter ratio\n",
    "    ratio = std_all / std_dump\n",
    "    masked_ratio = std_all / masked_std_dump\n",
    "    \n",
    "    ##============\n",
    "    \n",
    "    #Print out the correlation coefficient also, to allow for easy reference\n",
    "    \n",
    "    #Creating the matrix of the data and transposing it to correct format\n",
    "    data = []\n",
    "    data_errors = []\n",
    "    for i in dumptimes[1:]: #the first set of resids needs to be skipped in J1713, but not sure for all of them?\n",
    "        timeindex = (rounded == i)[0]\n",
    "        Resids = Resid_all[timeindex]\n",
    "        Errors = Errors_all[timeindex]\n",
    "        data.append(Resids)\n",
    "        data_errors.append(Errors)\n",
    "\n",
    "    data = map(list, zip(*data)) #transposing the matrix, supposedly unnecessary if rowvar=0 in corr but gives errors\n",
    "      \n",
    "    #Using the Weighted Correlation Coefficient from wikipedia\n",
    "    #https://en.wikipedia.org/wiki/Pearson_product-moment_correlation_coefficient#Weighted_correlation_coefficient\n",
    "    # I added weights by creating a weighted value to multiply each data element by\n",
    "    #The weighted values are normalized by dividing each value by the sum of all weights\n",
    "    \n",
    "    data_weights = 1. / (np.array(data_errors)**2)\n",
    "    data_weights = map(list, zip(*(data_weights.tolist())))\n",
    "    \n",
    "    #data_weights is a matrix of all the weights\n",
    "    \n",
    "    norm_weights = []\n",
    "    for i in data_weights:\n",
    "        norm_weights.append([elem/sum(i) for elem in i])\n",
    "        \n",
    "    weighted_data = []\n",
    "    for i,j in zip(data, norm_weights):\n",
    "        weighted_data.append([a*b for a,b in zip(i,j)])\n",
    "    \n",
    "    #Correlating! \n",
    "    corr = np.corrcoef(data)\n",
    "    weighted_corr = np.corrcoef(weighted_data)\n",
    "        \n",
    "    unique_corrs = []\n",
    "    #Averaging the correlation\n",
    "    for i in range(len(corr)):\n",
    "        unique_corrs.append(corr[i][i+1:]) #because numpy array, double index necessay\n",
    "    unique_corrs  = [val for sublist in unique_corrs for val in sublist]\n",
    "    final_coefficient = np.average(unique_corrs)\n",
    "        \n",
    "    unique_weighted_corrs = []\n",
    "    #Averaging the correlation\n",
    "    for i in range(len(weighted_corr)):\n",
    "        unique_weighted_corrs.append(weighted_corr[i][i+1:]) #because numpy array, double index necessay\n",
    "    unique_weighted_corrs  = [val for sublist in unique_weighted_corrs for val in sublist]\n",
    "    final_weighted_coefficient = np.average(unique_weighted_corrs)\n",
    "    \n",
    "    print titlearg\n",
    "    print \"sigma_all = \" + str(std_all)\n",
    "    print \"average sigma_dump = \" + str(std_dump)\n",
    "    print \"jitter ratio = \" + str(ratio) \n",
    "    print \"masked jitter ratio = \" + str(masked_ratio) \n",
    "    print \"correlation coefficient = \" + str(final_coefficient)\n",
    "    print \"weighted correlation coefficient = \" + str(final_weighted_coefficient)\n",
    "    print '##========'"
   ]
  },
  {
   "cell_type": "code",
   "execution_count": 34,
   "metadata": {
    "collapsed": false
   },
   "outputs": [
    {
     "name": "stdout",
     "output_type": "stream",
     "text": [
      "J1713+0747, MJD 56380, 80 second subintervals\n",
      "sigma_all = 2.44415585816e-07\n",
      "average sigma_dump = 2.49624000145e-08\n",
      "jitter ratio = 9.79134961678\n",
      "masked jitter ratio = 9.79134961678\n",
      "correlation coefficient = 0.975310619846\n",
      "weighted correlation coefficient = 0.935093128473\n"
     ]
    }
   ],
   "source": [
    "jitter_ratio(\"/nimrod1/eschwab/residuals/J1713+0747_resid_56380_80F8.tmp\",\n",
    "            56380.35, 56380.367, 'J1713+0747, MJD 56380, 80 second subintervals')"
   ]
  },
  {
   "cell_type": "code",
   "execution_count": 6,
   "metadata": {
    "collapsed": false
   },
   "outputs": [
    {
     "name": "stdout",
     "output_type": "stream",
     "text": [
      "J1713+0747, MJD 56380, 10 second subintervals\n",
      "sigma_all = 5.82671845721e-07\n",
      "average sigma_dump = 7.10113781891e-08\n",
      "jitter ratio = 8.20533075938\n",
      "masked jitter ratio = 8.20533075938\n",
      "correlation coefficient = 0.965601343627\n",
      "weighted correlation coefficient = 0.72062523975\n"
     ]
    }
   ],
   "source": [
    "jitter_ratio(\"/nimrod1/eschwab/residuals/J1713+0747_resid_56380_NTF8.tmp\",\n",
    "            56380.35, 56380.367, 'J1713+0747, MJD 56380, 10 second subintervals')"
   ]
  },
  {
   "cell_type": "code",
   "execution_count": 7,
   "metadata": {
    "collapsed": false
   },
   "outputs": [
    {
     "name": "stdout",
     "output_type": "stream",
     "text": [
      "J1713+0747, MJD 56201, 80 second subintervals\n",
      "sigma_all = 1.73501235065e-07\n",
      "average sigma_dump = 5.08948679605e-08\n",
      "jitter ratio = 3.40901238215\n",
      "masked jitter ratio = 3.40901238215\n",
      "correlation coefficient = 0.893879830465\n",
      "weighted correlation coefficient = 0.862007717236\n"
     ]
    }
   ],
   "source": [
    "jitter_ratio(\"/nimrod1/eschwab/residuals/J1713+0747_resid_56201_80F8.tmp\",\n",
    "            56201.85, 56201.872, 'J1713+0747, MJD 56201, 80 second subintervals')"
   ]
  },
  {
   "cell_type": "code",
   "execution_count": 8,
   "metadata": {
    "collapsed": false
   },
   "outputs": [
    {
     "name": "stdout",
     "output_type": "stream",
     "text": [
      "J1713+0747, MJD 56201, 10 second subintervals\n",
      "sigma_all = 5.43224438005e-07\n",
      "average sigma_dump = 8.13611454109e-08\n",
      "jitter ratio = 6.67670588045\n",
      "masked jitter ratio = 6.67670588045\n",
      "correlation coefficient = 0.916150377776\n",
      "weighted correlation coefficient = 0.895444174152\n"
     ]
    }
   ],
   "source": [
    "jitter_ratio(\"/nimrod1/eschwab/residuals/J1713+0747_resid_56201_NTF8.tmp\",\n",
    "            56201.85, 56201.872, 'J1713+0747, MJD 56201, 10 second subintervals')"
   ]
  },
  {
   "cell_type": "code",
   "execution_count": 9,
   "metadata": {
    "collapsed": false
   },
   "outputs": [
    {
     "name": "stdout",
     "output_type": "stream",
     "text": [
      "B1937+21, MJD 56465, 80 second subintervals\n",
      "sigma_all = 4.68059107539e-08\n",
      "average sigma_dump = 4.44210286622e-08\n",
      "jitter ratio = 1.05368813293\n",
      "masked jitter ratio = 1.05368813293\n",
      "correlation coefficient = 0.0816201709277\n",
      "weighted correlation coefficient = 0.506229938622\n"
     ]
    }
   ],
   "source": [
    "jitter_ratio(\"/nimrod1/eschwab/residuals/B1937+21_resid_56465_80F8.tmp\",\n",
    "            56465.3, 56465.32, 'B1937+21, MJD 56465, 80 second subintervals')"
   ]
  },
  {
   "cell_type": "code",
   "execution_count": 10,
   "metadata": {
    "collapsed": false
   },
   "outputs": [
    {
     "name": "stdout",
     "output_type": "stream",
     "text": [
      "B1937+21, MJD 56465, 10 second subintervals\n",
      "sigma_all = 7.05138954322e-08\n",
      "average sigma_dump = 4.92378535069e-08\n",
      "jitter ratio = 1.43210742163\n",
      "masked jitter ratio = 1.43210742163\n",
      "correlation coefficient = 0.771068051713\n",
      "weighted correlation coefficient = 0.652272051319\n"
     ]
    }
   ],
   "source": [
    "jitter_ratio(\"/nimrod1/eschwab/residuals/B1937+21_resid_56465_NTF8.tmp\",\n",
    "            56465.3, 56465.32, 'B1937+21, MJD 56465, 10 second subintervals')"
   ]
  },
  {
   "cell_type": "code",
   "execution_count": 11,
   "metadata": {
    "collapsed": false
   },
   "outputs": [
    {
     "name": "stdout",
     "output_type": "stream",
     "text": [
      "J1022+1001, MJD 57208, 80 second subintervals\n",
      "sigma_all = 4.6866049668e-05\n",
      "average sigma_dump = 0.000296708047933\n",
      "jitter ratio = 0.157953415806\n",
      "masked jitter ratio = 3.33695161071\n",
      "correlation coefficient = -0.0908035595199\n",
      "weighted correlation coefficient = 0.173805858185\n"
     ]
    }
   ],
   "source": [
    "jitter_ratio(\"/nimrod1/eschwab/residuals/J1022+1001_resid_57208_80F8.tmp\",\n",
    "            57208.778, 57208.79, 'J1022+1001, MJD 57208, 80 second subintervals')"
   ]
  },
  {
   "cell_type": "code",
   "execution_count": 12,
   "metadata": {
    "collapsed": false
   },
   "outputs": [
    {
     "name": "stdout",
     "output_type": "stream",
     "text": [
      "J1022+1001, MJD 57208, 10 second subintervals\n",
      "sigma_all = 0.000104350827388\n",
      "average sigma_dump = 0.000345928859937\n",
      "jitter ratio = 0.301654008881\n",
      "masked jitter ratio = 2.1828169481\n",
      "correlation coefficient = -0.270679064499\n",
      "weighted correlation coefficient = 0.247261000947\n"
     ]
    }
   ],
   "source": [
    "jitter_ratio(\"/nimrod1/eschwab/residuals/J1022+1001_resid_57208_NTF8.tmp\",\n",
    "            57208.778, 57208.79, 'J1022+1001, MJD 57208, 10 second subintervals')"
   ]
  },
  {
   "cell_type": "code",
   "execution_count": 13,
   "metadata": {
    "collapsed": false
   },
   "outputs": [
    {
     "name": "stdout",
     "output_type": "stream",
     "text": [
      "J1022+1001, MJD 57331, 10 second subintervals\n",
      "sigma_all = 1.65569569649e-06\n",
      "average sigma_dump = 1.43649632382e-06\n",
      "jitter ratio = 1.15259306204\n",
      "masked jitter ratio = 1.15259306204\n",
      "correlation coefficient = 0.131051206325\n",
      "weighted correlation coefficient = 0.209338838827\n"
     ]
    }
   ],
   "source": [
    "jitter_ratio(\"/nimrod1/eschwab/residuals/J1022+1001_resid_57331_80F8.tmp\",\n",
    "            57331.443, 57331.4595, 'J1022+1001, MJD 57331, 10 second subintervals')"
   ]
  },
  {
   "cell_type": "code",
   "execution_count": 14,
   "metadata": {
    "collapsed": false
   },
   "outputs": [
    {
     "name": "stdout",
     "output_type": "stream",
     "text": [
      "J1022+1001, MJD 57331, 10 second subintervals\n",
      "sigma_all = 1.99889485593e-05\n",
      "average sigma_dump = 1.28371737411e-05\n",
      "jitter ratio = 1.55711443675\n",
      "masked jitter ratio = 2.07273433488\n",
      "correlation coefficient = 0.0634166037353\n",
      "weighted correlation coefficient = 0.549554001675\n"
     ]
    }
   ],
   "source": [
    "jitter_ratio(\"/nimrod1/eschwab/residuals/J1022+1001_resid_57331_NTF8.tmp\",\n",
    "            57331.443, 57331.4595, 'J1022+1001, MJD 57331, 10 second subintervals')"
   ]
  },
  {
   "cell_type": "code",
   "execution_count": 15,
   "metadata": {
    "collapsed": false
   },
   "outputs": [
    {
     "name": "stdout",
     "output_type": "stream",
     "text": [
      "J2317+1439, MJD 57273, 80 second subintervals\n",
      "sigma_all = 8.63069774192e-05\n",
      "average sigma_dump = 7.9531672163e-05\n",
      "jitter ratio = 1.08519002646\n",
      "masked jitter ratio = 1.08519002646\n",
      "correlation coefficient = 0.393373284044\n",
      "weighted correlation coefficient = 0.482656996874\n"
     ]
    }
   ],
   "source": [
    "jitter_ratio(\"/nimrod1/eschwab/residuals/J2317+1439_resid_57273_80F8.tmp\",\n",
    "            57273.196, 57273.217, 'J2317+1439, MJD 57273, 80 second subintervals')"
   ]
  },
  {
   "cell_type": "code",
   "execution_count": 16,
   "metadata": {
    "collapsed": false
   },
   "outputs": [
    {
     "name": "stdout",
     "output_type": "stream",
     "text": [
      "J2317+1439, MJD 57273, 10 second subintervals\n",
      "sigma_all = 0.000136392509784\n",
      "average sigma_dump = 0.000136221578037\n",
      "jitter ratio = 1.00125480668\n",
      "masked jitter ratio = 1.00125480668\n",
      "correlation coefficient = -0.0165572422927\n",
      "weighted correlation coefficient = 0.0139920273057\n"
     ]
    }
   ],
   "source": [
    "jitter_ratio(\"/nimrod1/eschwab/residuals/J2317+1439_resid_57273_NTF8.tmp\",\n",
    "            57273.196, 57273.217, 'J2317+1439, MJD 57273, 10 second subintervals')"
   ]
  },
  {
   "cell_type": "code",
   "execution_count": 17,
   "metadata": {
    "collapsed": false
   },
   "outputs": [
    {
     "name": "stdout",
     "output_type": "stream",
     "text": [
      "J2234+0944, MJD 57069, 80 second subintervals\n",
      "sigma_all = 3.09374810381e-07\n",
      "average sigma_dump = 2.54509387228e-07\n",
      "jitter ratio = 1.21557327905\n",
      "masked jitter ratio = 1.21557327905\n",
      "correlation coefficient = 0.244021824527\n",
      "weighted correlation coefficient = 0.1947853598\n"
     ]
    }
   ],
   "source": [
    "jitter_ratio(\"/nimrod1/eschwab/residuals/J2234+0944_resid_57069_80F8.tmp\",\n",
    "            57069.7, 57069.72, 'J2234+0944, MJD 57069, 80 second subintervals')"
   ]
  },
  {
   "cell_type": "code",
   "execution_count": 35,
   "metadata": {
    "collapsed": false
   },
   "outputs": [
    {
     "name": "stdout",
     "output_type": "stream",
     "text": [
      "J2234+0944, MJD 57069, 10 second subintervals\n",
      "sigma_all = 7.79080622293e-07\n",
      "average sigma_dump = 6.23925410863e-07\n",
      "jitter ratio = 1.24867589736\n",
      "masked jitter ratio = 1.24867589736\n",
      "correlation coefficient = 0.181644203051\n",
      "weighted correlation coefficient = 0.450330636602\n"
     ]
    }
   ],
   "source": [
    "jitter_ratio(\"/nimrod1/eschwab/residuals/J2234+0944_resid_57069_NTF8.tmp\",\n",
    "            57069.7, 57069.72, 'J2234+0944, MJD 57069, 10 second subintervals')"
   ]
  },
  {
   "cell_type": "code",
   "execution_count": 53,
   "metadata": {
    "collapsed": false
   },
   "outputs": [
    {
     "name": "stdout",
     "output_type": "stream",
     "text": [
      "J1944+0907, MJD 56627, 80 second subintervals\n",
      "sigma_all = 3.33443949134e-05\n",
      "average sigma_dump = 3.26905850769e-05\n",
      "jitter ratio = 1.01999994295\n",
      "masked jitter ratio = 1.01999994295\n",
      "correlation coefficient = 0.101973490293\n",
      "weighted correlation coefficient = 0.0651012926555\n",
      "##========\n",
      "J1944+0907, MJD 56627, 40 second subintervals\n",
      "sigma_all = 3.72123364776e-05\n",
      "average sigma_dump = 3.21108337561e-05\n",
      "jitter ratio = 1.1588716992\n",
      "masked jitter ratio = 1.1588716992\n",
      "correlation coefficient = 0.204620700727\n",
      "weighted correlation coefficient = 0.164917193296\n",
      "##========\n",
      "J1944+0907, MJD 56627, 20 second subintervals\n",
      "sigma_all = 4.32509911152e-05\n",
      "average sigma_dump = 3.4804152858e-05\n",
      "jitter ratio = 1.24269627512\n",
      "masked jitter ratio = 1.24269627512\n",
      "correlation coefficient = -0.0615860267297\n",
      "weighted correlation coefficient = 0.109056993576\n",
      "##========\n"
     ]
    },
    {
     "ename": "ValueError",
     "evalue": "math domain error",
     "output_type": "error",
     "traceback": [
      "\u001b[1;31m---------------------------------------------------------------------------\u001b[0m",
      "\u001b[1;31mValueError\u001b[0m                                Traceback (most recent call last)",
      "\u001b[1;32m<ipython-input-53-2b98dfd9a286>\u001b[0m in \u001b[0;36m<module>\u001b[1;34m()\u001b[0m\n\u001b[0;32m      6\u001b[0m             56627.77, 56627.805, 'J1944+0907, MJD 56627, 20 second subintervals')\n\u001b[0;32m      7\u001b[0m jitter_ratio(\"/nimrod1/eschwab/residuals/J1944+0907_resid_56627_NTF8.tmp\",\n\u001b[1;32m----> 8\u001b[1;33m             56627.77, 56627.805, 'J1944+0907, MJD 56627, 10 second subintervals')\n\u001b[0m",
      "\u001b[1;32m<ipython-input-36-3c27e4f64b0d>\u001b[0m in \u001b[0;36mjitter_ratio\u001b[1;34m(resids_file, condition_lower, condition_upper, titlearg)\u001b[0m\n\u001b[0;32m     66\u001b[0m     \u001b[0mmagarray\u001b[0m\u001b[1;33m=\u001b[0m\u001b[1;33m[\u001b[0m\u001b[1;33m]\u001b[0m\u001b[1;33m\u001b[0m\u001b[0m\n\u001b[0;32m     67\u001b[0m     \u001b[1;32mfor\u001b[0m \u001b[0mi\u001b[0m \u001b[1;32min\u001b[0m \u001b[0mdump_devs\u001b[0m\u001b[1;33m:\u001b[0m\u001b[1;33m\u001b[0m\u001b[0m\n\u001b[1;32m---> 68\u001b[1;33m         \u001b[0mmagarray\u001b[0m\u001b[1;33m.\u001b[0m\u001b[0mappend\u001b[0m\u001b[1;33m(\u001b[0m\u001b[0mmagnitude\u001b[0m\u001b[1;33m(\u001b[0m\u001b[0mi\u001b[0m\u001b[1;33m)\u001b[0m\u001b[1;33m)\u001b[0m\u001b[1;33m\u001b[0m\u001b[0m\n\u001b[0m\u001b[0;32m     69\u001b[0m     \u001b[0maveragemag\u001b[0m \u001b[1;33m=\u001b[0m \u001b[0mround\u001b[0m\u001b[1;33m(\u001b[0m\u001b[0mnp\u001b[0m\u001b[1;33m.\u001b[0m\u001b[0mmean\u001b[0m\u001b[1;33m(\u001b[0m\u001b[0mmagarray\u001b[0m\u001b[1;33m)\u001b[0m\u001b[1;33m)\u001b[0m\u001b[1;33m\u001b[0m\u001b[0m\n\u001b[0;32m     70\u001b[0m \u001b[1;33m\u001b[0m\u001b[0m\n",
      "\u001b[1;32m<ipython-input-36-3c27e4f64b0d>\u001b[0m in \u001b[0;36mmagnitude\u001b[1;34m(x)\u001b[0m\n\u001b[0;32m     19\u001b[0m \u001b[1;32mdef\u001b[0m \u001b[0mmagnitude\u001b[0m\u001b[1;33m(\u001b[0m\u001b[0mx\u001b[0m\u001b[1;33m)\u001b[0m\u001b[1;33m:\u001b[0m\u001b[1;33m\u001b[0m\u001b[0m\n\u001b[0;32m     20\u001b[0m     \u001b[0mvar\u001b[0m \u001b[1;33m=\u001b[0m \u001b[0mfloat\u001b[0m\u001b[1;33m(\u001b[0m\u001b[0mx\u001b[0m\u001b[1;33m)\u001b[0m\u001b[1;33m\u001b[0m\u001b[0m\n\u001b[1;32m---> 21\u001b[1;33m     \u001b[1;32mreturn\u001b[0m \u001b[0mint\u001b[0m\u001b[1;33m(\u001b[0m\u001b[0mmath\u001b[0m\u001b[1;33m.\u001b[0m\u001b[0mfloor\u001b[0m\u001b[1;33m(\u001b[0m\u001b[0mmath\u001b[0m\u001b[1;33m.\u001b[0m\u001b[0mlog10\u001b[0m\u001b[1;33m(\u001b[0m\u001b[0mvar\u001b[0m\u001b[1;33m)\u001b[0m\u001b[1;33m)\u001b[0m\u001b[1;33m)\u001b[0m\u001b[1;33m\u001b[0m\u001b[0m\n\u001b[0m\u001b[0;32m     22\u001b[0m \u001b[1;33m\u001b[0m\u001b[0m\n\u001b[0;32m     23\u001b[0m \u001b[1;33m\u001b[0m\u001b[0m\n",
      "\u001b[1;31mValueError\u001b[0m: math domain error"
     ]
    }
   ],
   "source": [
    "jitter_ratio(\"/nimrod1/eschwab/residuals/J1944+0907_resid_56627_80F8.tmp\",\n",
    "            56627.77, 56627.805, 'J1944+0907, MJD 56627, 80 second subintervals')\n",
    "jitter_ratio(\"/nimrod1/eschwab/residuals/J1944+0907_resid_56627_40F8.tmp\",\n",
    "            56627.77, 56627.805, 'J1944+0907, MJD 56627, 40 second subintervals')\n",
    "jitter_ratio(\"/nimrod1/eschwab/residuals/J1944+0907_resid_56627_20F8.tmp\",\n",
    "            56627.77, 56627.805, 'J1944+0907, MJD 56627, 20 second subintervals')\n",
    "jitter_ratio(\"/nimrod1/eschwab/residuals/J1944+0907_resid_56627_NTF8.tmp\",\n",
    "            56627.77, 56627.805, 'J1944+0907, MJD 56627, 10 second subintervals')"
   ]
  },
  {
   "cell_type": "code",
   "execution_count": 54,
   "metadata": {
    "collapsed": false
   },
   "outputs": [
    {
     "name": "stdout",
     "output_type": "stream",
     "text": [
      "J2234+0611, MJD 56843, 80 second subintervals\n",
      "sigma_all = 1.93645822117e-05\n",
      "average sigma_dump = 1.65069277093e-05\n",
      "jitter ratio = 1.17311849623\n",
      "masked jitter ratio = 1.17311849623\n",
      "correlation coefficient = 0.104479034932\n",
      "weighted correlation coefficient = 0.103233167826\n",
      "##========\n",
      "J2234+0611, MJD 56843, 40 second subintervals\n",
      "sigma_all = 3.01667193408e-05\n",
      "average sigma_dump = 2.38386273316e-05\n",
      "jitter ratio = 1.26545538555\n",
      "masked jitter ratio = 1.26545538555\n",
      "correlation coefficient = 0.080584924696\n",
      "weighted correlation coefficient = 0.074458181388\n",
      "##========\n"
     ]
    },
    {
     "ename": "ValueError",
     "evalue": "math domain error",
     "output_type": "error",
     "traceback": [
      "\u001b[1;31m---------------------------------------------------------------------------\u001b[0m",
      "\u001b[1;31mValueError\u001b[0m                                Traceback (most recent call last)",
      "\u001b[1;32m<ipython-input-54-992a071589a0>\u001b[0m in \u001b[0;36m<module>\u001b[1;34m()\u001b[0m\n\u001b[0;32m      4\u001b[0m             56843.31, 56843.37, 'J2234+0611, MJD 56843, 40 second subintervals')\n\u001b[0;32m      5\u001b[0m jitter_ratio(\"/nimrod1/eschwab/residuals/J2234+0611_resid_56843_20F8.tmp\",\n\u001b[1;32m----> 6\u001b[1;33m             56843.31, 56843.37, 'J2234+0611, MJD 56843, 20 second subintervals')\n\u001b[0m\u001b[0;32m      7\u001b[0m jitter_ratio(\"/nimrod1/eschwab/residuals/J2234+0611_resid_56843_NTF8.tmp\",\n\u001b[0;32m      8\u001b[0m             56843.31, 56843.37, 'J2234+0611, MJD 56843, 10 second subintervals')\n",
      "\u001b[1;32m<ipython-input-36-3c27e4f64b0d>\u001b[0m in \u001b[0;36mjitter_ratio\u001b[1;34m(resids_file, condition_lower, condition_upper, titlearg)\u001b[0m\n\u001b[0;32m     66\u001b[0m     \u001b[0mmagarray\u001b[0m\u001b[1;33m=\u001b[0m\u001b[1;33m[\u001b[0m\u001b[1;33m]\u001b[0m\u001b[1;33m\u001b[0m\u001b[0m\n\u001b[0;32m     67\u001b[0m     \u001b[1;32mfor\u001b[0m \u001b[0mi\u001b[0m \u001b[1;32min\u001b[0m \u001b[0mdump_devs\u001b[0m\u001b[1;33m:\u001b[0m\u001b[1;33m\u001b[0m\u001b[0m\n\u001b[1;32m---> 68\u001b[1;33m         \u001b[0mmagarray\u001b[0m\u001b[1;33m.\u001b[0m\u001b[0mappend\u001b[0m\u001b[1;33m(\u001b[0m\u001b[0mmagnitude\u001b[0m\u001b[1;33m(\u001b[0m\u001b[0mi\u001b[0m\u001b[1;33m)\u001b[0m\u001b[1;33m)\u001b[0m\u001b[1;33m\u001b[0m\u001b[0m\n\u001b[0m\u001b[0;32m     69\u001b[0m     \u001b[0maveragemag\u001b[0m \u001b[1;33m=\u001b[0m \u001b[0mround\u001b[0m\u001b[1;33m(\u001b[0m\u001b[0mnp\u001b[0m\u001b[1;33m.\u001b[0m\u001b[0mmean\u001b[0m\u001b[1;33m(\u001b[0m\u001b[0mmagarray\u001b[0m\u001b[1;33m)\u001b[0m\u001b[1;33m)\u001b[0m\u001b[1;33m\u001b[0m\u001b[0m\n\u001b[0;32m     70\u001b[0m \u001b[1;33m\u001b[0m\u001b[0m\n",
      "\u001b[1;32m<ipython-input-36-3c27e4f64b0d>\u001b[0m in \u001b[0;36mmagnitude\u001b[1;34m(x)\u001b[0m\n\u001b[0;32m     19\u001b[0m \u001b[1;32mdef\u001b[0m \u001b[0mmagnitude\u001b[0m\u001b[1;33m(\u001b[0m\u001b[0mx\u001b[0m\u001b[1;33m)\u001b[0m\u001b[1;33m:\u001b[0m\u001b[1;33m\u001b[0m\u001b[0m\n\u001b[0;32m     20\u001b[0m     \u001b[0mvar\u001b[0m \u001b[1;33m=\u001b[0m \u001b[0mfloat\u001b[0m\u001b[1;33m(\u001b[0m\u001b[0mx\u001b[0m\u001b[1;33m)\u001b[0m\u001b[1;33m\u001b[0m\u001b[0m\n\u001b[1;32m---> 21\u001b[1;33m     \u001b[1;32mreturn\u001b[0m \u001b[0mint\u001b[0m\u001b[1;33m(\u001b[0m\u001b[0mmath\u001b[0m\u001b[1;33m.\u001b[0m\u001b[0mfloor\u001b[0m\u001b[1;33m(\u001b[0m\u001b[0mmath\u001b[0m\u001b[1;33m.\u001b[0m\u001b[0mlog10\u001b[0m\u001b[1;33m(\u001b[0m\u001b[0mvar\u001b[0m\u001b[1;33m)\u001b[0m\u001b[1;33m)\u001b[0m\u001b[1;33m)\u001b[0m\u001b[1;33m\u001b[0m\u001b[0m\n\u001b[0m\u001b[0;32m     22\u001b[0m \u001b[1;33m\u001b[0m\u001b[0m\n\u001b[0;32m     23\u001b[0m \u001b[1;33m\u001b[0m\u001b[0m\n",
      "\u001b[1;31mValueError\u001b[0m: math domain error"
     ]
    }
   ],
   "source": [
    "jitter_ratio(\"/nimrod1/eschwab/residuals/J2234+0611_resid_56843_80F8.tmp\",\n",
    "            56843.31, 56843.37, 'J2234+0611, MJD 56843, 80 second subintervals')\n",
    "jitter_ratio(\"/nimrod1/eschwab/residuals/J2234+0611_resid_56843_40F8.tmp\",\n",
    "            56843.31, 56843.37, 'J2234+0611, MJD 56843, 40 second subintervals')\n",
    "jitter_ratio(\"/nimrod1/eschwab/residuals/J2234+0611_resid_56843_20F8.tmp\",\n",
    "            56843.31, 56843.37, 'J2234+0611, MJD 56843, 20 second subintervals')\n",
    "jitter_ratio(\"/nimrod1/eschwab/residuals/J2234+0611_resid_56843_NTF8.tmp\",\n",
    "            56843.31, 56843.37, 'J2234+0611, MJD 56843, 10 second subintervals')"
   ]
  },
  {
   "cell_type": "code",
   "execution_count": 45,
   "metadata": {
    "collapsed": false
   },
   "outputs": [
    {
     "name": "stdout",
     "output_type": "stream",
     "text": [
      "J2229+2643, MJD 57234, 80 second subintervals\n",
      "sigma_all = 7.28480556269e-06\n",
      "average sigma_dump = 4.20763111572e-06\n",
      "jitter ratio = 1.73133180223\n",
      "masked jitter ratio = 1.73133180223\n",
      "correlation coefficient = 0.072480601191\n",
      "weighted correlation coefficient = 0.0398812019984\n",
      "##========\n",
      "J2229+2643, MJD 57234, 40 second subintervals\n",
      "sigma_all = 1.17433736297e-05\n",
      "average sigma_dump = 6.26113887877e-06\n",
      "jitter ratio = 1.87559705304\n",
      "masked jitter ratio = 1.87559705304\n",
      "correlation coefficient = 0.146408939472\n",
      "weighted correlation coefficient = 0.0872174298955\n",
      "##========\n",
      "J2229+2643, MJD 57234, 20 second subintervals\n",
      "sigma_all = 1.81694011661e-05\n",
      "average sigma_dump = 1.03109452218e-05\n",
      "jitter ratio = 1.76214699769\n",
      "masked jitter ratio = 2.10090971036\n",
      "correlation coefficient = 0.183361778215\n",
      "weighted correlation coefficient = 0.0778600236818\n",
      "##========\n",
      "J2229+2643, MJD 57234, 10 second subintervals\n",
      "sigma_all = 2.95101900589e-05\n",
      "average sigma_dump = 1.782580008e-05\n",
      "jitter ratio = 1.65547632793\n",
      "masked jitter ratio = 1.90955491199\n",
      "correlation coefficient = 0.00516772689116\n",
      "weighted correlation coefficient = 0.000954856102611\n",
      "##========\n"
     ]
    }
   ],
   "source": [
    "jitter_ratio(\"/nimrod1/eschwab/residuals/J2229+2643_resid_57234_80F8.tmp\",\n",
    "            57234.255, 57234.275, 'J2229+2643, MJD 57234, 80 second subintervals')\n",
    "jitter_ratio(\"/nimrod1/eschwab/residuals/J2229+2643_resid_57234_40F8.tmp\",\n",
    "            57234.255, 57234.275, 'J2229+2643, MJD 57234, 40 second subintervals')\n",
    "jitter_ratio(\"/nimrod1/eschwab/residuals/J2229+2643_resid_57234_20F8.tmp\",\n",
    "            57234.255, 57234.275, 'J2229+2643, MJD 57234, 20 second subintervals')\n",
    "jitter_ratio(\"/nimrod1/eschwab/residuals/J2229+2643_resid_57234_NTF8.tmp\",\n",
    "            57234.255, 57234.275, 'J2229+2643, MJD 57234, 10 second subintervals')"
   ]
  },
  {
   "cell_type": "code",
   "execution_count": 47,
   "metadata": {
    "collapsed": false
   },
   "outputs": [
    {
     "name": "stdout",
     "output_type": "stream",
     "text": [
      "J0023+0923, MJD 56023, 80 second subintervals\n",
      "sigma_all = 4.94718556922e-07\n",
      "average sigma_dump = 4.53724114577e-07\n",
      "jitter ratio = 1.09035103277\n",
      "masked jitter ratio = 1.09035103277\n",
      "correlation coefficient = 0.11642325302\n",
      "weighted correlation coefficient = 0.439244289771\n",
      "##========\n",
      "J0023+0923, MJD 56023, 40 second subintervals\n",
      "sigma_all = 6.8972793334e-07\n",
      "average sigma_dump = 5.6407222134e-07\n",
      "jitter ratio = 1.22276529006\n",
      "masked jitter ratio = 1.22276529006\n",
      "correlation coefficient = 0.256433971406\n",
      "weighted correlation coefficient = 0.669546322242\n",
      "##========\n",
      "J0023+0923, MJD 56023, 20 second subintervals\n",
      "sigma_all = 1.03740055025e-06\n",
      "average sigma_dump = 8.43548580155e-07\n",
      "jitter ratio = 1.22980534216\n",
      "masked jitter ratio = 1.22980534216\n",
      "correlation coefficient = 0.176676622978\n",
      "weighted correlation coefficient = 0.565660155595\n",
      "##========\n",
      "J0023+0923, MJD 56023, 10 second subintervals\n",
      "sigma_all = 1.03740055025e-06\n",
      "average sigma_dump = 8.43548580155e-07\n",
      "jitter ratio = 1.22980534216\n",
      "masked jitter ratio = 1.22980534216\n",
      "correlation coefficient = 0.176676622978\n",
      "weighted correlation coefficient = 0.565660155595\n",
      "##========\n"
     ]
    }
   ],
   "source": [
    "jitter_ratio(\"/nimrod1/eschwab/residuals/J0023+0923_resid_56023_80F8.tmp\",\n",
    "            56023.66, 56023.68, 'J0023+0923, MJD 56023, 80 second subintervals')\n",
    "jitter_ratio(\"/nimrod1/eschwab/residuals/J0023+0923_resid_56023_40F8.tmp\",\n",
    "            56023.66, 56023.68, 'J0023+0923, MJD 56023, 40 second subintervals')\n",
    "jitter_ratio(\"/nimrod1/eschwab/residuals/J0023+0923_resid_56023_20F8.tmp\",\n",
    "            56023.66, 56023.68, 'J0023+0923, MJD 56023, 20 second subintervals')\n",
    "jitter_ratio(\"/nimrod1/eschwab/residuals/J0023+0923_resid_56023_NTF8.tmp\",\n",
    "            56023.66, 56023.68, 'J0023+0923, MJD 56023, 10 second subintervals')"
   ]
  },
  {
   "cell_type": "code",
   "execution_count": 49,
   "metadata": {
    "collapsed": false
   },
   "outputs": [
    {
     "name": "stdout",
     "output_type": "stream",
     "text": [
      "J1738+0333, MJD 57124, 80 second subintervals\n",
      "sigma_all = 5.51075574083e-07\n",
      "average sigma_dump = 4.92082321532e-07\n",
      "jitter ratio = 1.11988492569\n",
      "masked jitter ratio = 1.11988492569\n",
      "correlation coefficient = 0.0109126997516\n",
      "weighted correlation coefficient = 0.295940224352\n",
      "##========\n",
      "J1738+0333, MJD 57124, 40 second subintervals\n",
      "sigma_all = 7.49003924014e-07\n",
      "average sigma_dump = 6.59139121944e-07\n",
      "jitter ratio = 1.13633662315\n",
      "masked jitter ratio = 1.13633662315\n",
      "correlation coefficient = -0.130122024398\n",
      "weighted correlation coefficient = 0.112805817829\n",
      "##========\n",
      "J1738+0333, MJD 57124, 20 second subintervals\n",
      "sigma_all = 1.04473079553e-06\n",
      "average sigma_dump = 9.43471369556e-07\n",
      "jitter ratio = 1.1073264428\n",
      "masked jitter ratio = 1.1073264428\n",
      "correlation coefficient = 0.0634849042457\n",
      "weighted correlation coefficient = 0.324284912575\n",
      "##========\n",
      "J1738+0333, MJD 57124, 10 second subintervals\n",
      "sigma_all = 6.58498574301e-06\n",
      "average sigma_dump = 3.11780772905e-06\n",
      "jitter ratio = 2.11205639195\n",
      "masked jitter ratio = 3.70029231532\n",
      "correlation coefficient = 0.198872267273\n",
      "weighted correlation coefficient = 0.316252515878\n",
      "##========\n"
     ]
    }
   ],
   "source": [
    "jitter_ratio(\"/nimrod1/eschwab/residuals/J1738+0333_resid_57124_80F8.tmp\",\n",
    "            57124.352, 57124.37, 'J1738+0333, MJD 57124, 80 second subintervals')\n",
    "jitter_ratio(\"/nimrod1/eschwab/residuals/J1738+0333_resid_57124_40F8.tmp\",\n",
    "            57124.352, 57124.37, 'J1738+0333, MJD 57124, 40 second subintervals')\n",
    "jitter_ratio(\"/nimrod1/eschwab/residuals/J1738+0333_resid_57124_20F8.tmp\",\n",
    "            57124.352, 57124.37, 'J1738+0333, MJD 57124, 20 second subintervals')\n",
    "jitter_ratio(\"/nimrod1/eschwab/residuals/J1738+0333_resid_57124_NTF8.tmp\",\n",
    "            57124.352, 57124.37, 'J1738+0333, MJD 57124, 10 second subintervals')"
   ]
  },
  {
   "cell_type": "code",
   "execution_count": 50,
   "metadata": {
    "collapsed": false
   },
   "outputs": [
    {
     "name": "stdout",
     "output_type": "stream",
     "text": [
      "J2214+3000, MJD 56739, 80 second subintervals\n",
      "sigma_all = 3.82246330354e-05\n",
      "average sigma_dump = 4.33566618257e-05\n",
      "jitter ratio = 0.881632289613\n",
      "masked jitter ratio = 0.881632289613\n",
      "correlation coefficient = 0.669399673152\n",
      "weighted correlation coefficient = 0.636952781992\n",
      "##========\n",
      "J2214+3000, MJD 56739, 40 second subintervals\n",
      "sigma_all = 4.4848379189e-05\n",
      "average sigma_dump = 5.49375658654e-05\n",
      "jitter ratio = 0.816351771006\n",
      "masked jitter ratio = 0.816351771006\n",
      "correlation coefficient = 0.173834688661\n",
      "weighted correlation coefficient = 0.276027040171\n",
      "##========\n",
      "J2214+3000, MJD 56739, 20 second subintervals\n",
      "sigma_all = 7.15166668525e-05\n",
      "average sigma_dump = 8.43468638058e-05\n",
      "jitter ratio = 0.847887682192\n",
      "masked jitter ratio = 0.847887682192\n",
      "correlation coefficient = 0.0163692452808\n",
      "weighted correlation coefficient = 0.0217246528229\n",
      "##========\n",
      "J2214+3000, MJD 56739, 10 second subintervals\n",
      "sigma_all = 0.000115268651999\n",
      "average sigma_dump = 0.000134676667463\n",
      "jitter ratio = 0.85589177525\n",
      "masked jitter ratio = 0.85589177525\n",
      "correlation coefficient = -0.0126394046859\n",
      "weighted correlation coefficient = 0.0253934653353\n",
      "##========\n"
     ]
    }
   ],
   "source": [
    "jitter_ratio(\"/nimrod1/eschwab/residuals/J2214+3000_resid_56739_80F8.tmp\",\n",
    "            56739.63, 56739.66, 'J2214+3000, MJD 56739, 80 second subintervals')\n",
    "jitter_ratio(\"/nimrod1/eschwab/residuals/J2214+3000_resid_56739_40F8.tmp\",\n",
    "            56739.63, 56739.66, 'J2214+3000, MJD 56739, 40 second subintervals')\n",
    "jitter_ratio(\"/nimrod1/eschwab/residuals/J2214+3000_resid_56739_20F8.tmp\",\n",
    "            56739.63, 56739.66, 'J2214+3000, MJD 56739, 20 second subintervals')\n",
    "jitter_ratio(\"/nimrod1/eschwab/residuals/J2214+3000_resid_56739_NTF8.tmp\",\n",
    "            56739.63, 56739.66, 'J2214+3000, MJD 56739, 10 second subintervals')"
   ]
  },
  {
   "cell_type": "code",
   "execution_count": null,
   "metadata": {
    "collapsed": false
   },
   "outputs": [],
   "source": [
    "# writing out the correlation code\n",
    "\n",
    "#first i need to isolate the arrays. There should be 8 in most, but some still have 16.\n",
    "#(rereduce J1713 and B1937 with updated jitterpipe)\n",
    "\n",
    "#I'll be isolating the arrays of residuals, they will all be residuals of the same frequency band\n",
    "#going forward in time\n",
    "\n",
    "#starting with J1713, even though I'm going to make it divisible by 14 frequency bands.\n",
    "#usually this will be 8 or 9\n",
    "\n",
    "\n",
    "#Defining arrays\n",
    "x=r.read_residuals(filename=\"/nimrod1/eschwab/residuals/J1713+0747_resid_56380_80F8.tmp\")\n",
    "\n",
    "date = 56380\n",
    "condition=(x.bary_TOA > 56380.35) & (x.bary_TOA < 56380.367)\n",
    "\n",
    "TOA=x.bary_TOA[condition]\n",
    "Resid=x.prefit_sec[condition]\n",
    "Freq=x.bary_freq[condition]\n",
    "Error=x.uncertainty[condition]\n",
    "\n",
    "#Creating a matrix of arrays in the correct order\n",
    "# Rows of residuals by frequency\n",
    "# Columns by TOA\n",
    "rounded = np.round(np.array([x.bary_TOA[condition] - 0.00005]), 4)\n",
    "dumptimes=[]\n",
    "for i in rounded.tolist()[0]: \n",
    "    if i not in dumptimes:\n",
    "        dumptimes.append(i)\n",
    "\n",
    "#Creating the data and transposing it to correct format\n",
    "data = []\n",
    "for i in dumptimes[1:]:\n",
    "    timeindex = (rounded == i)[0]\n",
    "    Resids = Resid[timeindex]\n",
    "    data.append(list(Resids))\n",
    "realdata = map(list, zip(*data))\n",
    "\n",
    "#Correlating!\n",
    "corr = np.corrcoef(realdata).tolist()\n",
    "\n",
    "unique_corrs = []\n",
    "#Averaging the correlation\n",
    "for i in range(len(corr))[:-1]:\n",
    "    unique_corrs.append(corr[i][i+1:]) #because numpy array, double index necessay\n",
    "unique_corrs  = [val for sublist in unique_corrs for val in sublist]\n",
    "np.average(unique_corrs)"
   ]
  },
  {
   "cell_type": "code",
   "execution_count": null,
   "metadata": {
    "collapsed": true
   },
   "outputs": [],
   "source": []
  }
 ],
 "metadata": {
  "kernelspec": {
   "display_name": "Python 2",
   "language": "python",
   "name": "python2"
  },
  "language_info": {
   "codemirror_mode": {
    "name": "ipython",
    "version": 2
   },
   "file_extension": ".py",
   "mimetype": "text/x-python",
   "name": "python",
   "nbconvert_exporter": "python",
   "pygments_lexer": "ipython2",
   "version": "2.7.3"
  }
 },
 "nbformat": 4,
 "nbformat_minor": 0
}
