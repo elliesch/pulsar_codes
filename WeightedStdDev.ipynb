{
 "cells": [
  {
   "cell_type": "code",
   "execution_count": 1,
   "metadata": {
    "collapsed": false
   },
   "outputs": [],
   "source": [
    "import numpy as np\n",
    "import math\n",
    "import residuals as r\n",
    "\n",
    "np.set_printoptions(threshold=np.inf)\n",
    "np.set_printoptions(suppress=True)"
   ]
  },
  {
   "cell_type": "code",
   "execution_count": 119,
   "metadata": {
    "collapsed": false
   },
   "outputs": [],
   "source": [
    "# I am defining the weighted standard deviation according to this definition:\n",
    "# https://en.wikipedia.org/wiki/Weighted_arithmetic_mean#Weighted_sample_variance\n",
    "# I am using the inverse square of the error arrays to define the weights\n",
    "\n",
    "# factor10 = math.sqrt((25*60)/10.0) \n",
    "# factor80 = math.sqrt((25*60)/80.0) \n",
    "\n",
    "\n",
    "def weighted_stddev(values, errors):\n",
    "    '''\n",
    "    Return the weighted average and standard deviation.\n",
    "\n",
    "    '''\n",
    "    weights = 1. / ((errors)**2)\n",
    "    average = np.average(values, weights=weights)\n",
    "    variance = np.average((values-average)**2, weights=weights)  # Fast and numerically precise\n",
    "    return (math.sqrt(variance))\n",
    "\n",
    "def magnitude(x):\n",
    "    var = float(x)\n",
    "    return int(math.floor(math.log10(var)))\n",
    "\n",
    "\n",
    "def jitter_ratio(resids_file, condition_lower, condition_upper, titlearg):\n",
    "    '''\n",
    "    Return the ratio of sigma_dump over sigma_all.\n",
    "    \n",
    "    Added the correlation coefficient too, so we can easily compare here.\n",
    "\n",
    "    '''\n",
    "    \n",
    "    #Define sigma_all (or std_all) as entire observation period\n",
    "    x=r.read_residuals(filename=resids_file)\n",
    "\n",
    "    condition = (x.bary_TOA > condition_lower) & (x.bary_TOA < condition_upper)\n",
    "    Resid_all = x.prefit_sec[condition]\n",
    "    Errors_all = x.uncertainty[condition]\n",
    "    std_all = weighted_stddev(Resid_all, Errors_all)\n",
    "    \n",
    "    ##============\n",
    "    \n",
    "    #Define sigma_dump (or std_all) as individual dumps within observation period\n",
    "    \n",
    "    #This isolates the numbers for the different dump times\n",
    "    rounded = np.round(np.array([x.bary_TOA[condition] - 0.00005]), 4)\n",
    "    dumptimes=[]\n",
    "    for i in rounded.tolist()[0]: \n",
    "        if i not in dumptimes:\n",
    "            dumptimes.append(i)\n",
    "\n",
    "    #This calculates a list of sigma_dump values and averages those\n",
    "    str_dump_devs=[]\n",
    "    for i in dumptimes:\n",
    "        timeindex = (rounded == i)[0]\n",
    "        Resid = Resid_all[timeindex]\n",
    "        Errors = Errors_all[timeindex]\n",
    "        single_std_dump = weighted_stddev(Resid, Errors)\n",
    "        str_dump_devs.append(single_std_dump)\n",
    "    \n",
    "    #to convert str_dump_devs out of scientific notation\n",
    "    dump_devs=[]\n",
    "    for i in str_dump_devs:\n",
    "        dump_devs.append('{0:.20f}'.format(i))\n",
    "        \n",
    "    #prints the magnitude of each sigma_dump in a list and finds average magnitude\n",
    "    magarray=[]\n",
    "    for i in dump_devs:\n",
    "        magarray.append(magnitude(i))\n",
    "    averagemag = round(np.mean(magarray))\n",
    "    \n",
    "    arg=averagemag+1.5\n",
    "    makemask = np.ma.masked_where(np.array(magarray) > arg, np.array(magarray))\n",
    "    \n",
    "    std_dump=np.mean(str_dump_devs)\n",
    "    masked_std_dump = np.mean(np.ma.masked_where(np.ma.getmask(makemask), str_dump_devs))\n",
    "    \n",
    "    #Setup jitter ratio\n",
    "    ratio = std_all / std_dump\n",
    "    masked_ratio = std_all / masked_std_dump\n",
    "    \n",
    "    ##============\n",
    "    \n",
    "    #Print out the correlation coefficient also, to allow for easy reference\n",
    "    \n",
    "    #Creating the matrix of the data and transposing it to correct format\n",
    "    data = []\n",
    "    data_errors = []\n",
    "    for i in dumptimes[1:]: #the first set of resids needs to be skipped in J1713, but not sure for all of them?\n",
    "        timeindex = (rounded == i)[0]\n",
    "        Resids = Resid_all[timeindex]\n",
    "        Errors = Errors_all[timeindex]\n",
    "        data.append(Resids)\n",
    "        data_errors.append(Errors)\n",
    "\n",
    "    data = map(list, zip(*data)) #transposing the matrix, supposedly unnecessary if rowvar=0 in corr but gives errors\n",
    "      \n",
    "    #Using the Weighted Correlation Coefficient from wikipedia\n",
    "    #https://en.wikipedia.org/wiki/Pearson_product-moment_correlation_coefficient#Weighted_correlation_coefficient\n",
    "    # I added weights by creating a weighted value to multiply each data element by\n",
    "    #The weighted values are normalized by dividing each value by the sum of all weights\n",
    "    \n",
    "    weights = 1. / (np.array(data_errors)**2)\n",
    "    weights = map(list, zip(*(weights.tolist())))\n",
    "    \n",
    "    norm_weights = []\n",
    "    for i in weights:\n",
    "        norm_weights.append([elem*sum(i) for elem in i])\n",
    "        \n",
    "    weighted_data = []\n",
    "    for i,j in zip(data, norm_weights):\n",
    "        weighted_data.append([a*b for a,b in zip(i,j)])\n",
    "    \n",
    "    #Correlating! \n",
    "    corr = np.corrcoef(data)\n",
    "    weighted_corr = np.corrcoef(weighted_data)\n",
    "        \n",
    "    unique_corrs = []\n",
    "    #Averaging the correlation\n",
    "    for i in range(len(corr)):\n",
    "        unique_corrs.append(corr[i][i+1:]) #because numpy array, double index necessay\n",
    "    unique_corrs  = [val for sublist in unique_corrs for val in sublist]\n",
    "    final_coefficient = np.average(unique_corrs)\n",
    "        \n",
    "    unique_weighted_corrs = []\n",
    "    #Averaging the correlation\n",
    "    for i in range(len(weighted_corr)):\n",
    "        unique_weighted_corrs.append(weighted_corr[i][i+1:]) #because numpy array, double index necessay\n",
    "    unique_weighted_corrs  = [val for sublist in unique_weighted_corrs for val in sublist]\n",
    "    final_weighted_coefficient = np.average(unique_weighted_corrs)\n",
    "    \n",
    "    print titlearg\n",
    "    print \"sigma_all = \" + str(std_all)\n",
    "    print \"average sigma_dump = \" + str(std_dump)\n",
    "    print \"jitter ratio = \" + str(ratio) \n",
    "    print \"masked jitter ratio = \" + str(masked_ratio) \n",
    "    print \"correlation coefficient = \" + str(final_coefficient)\n",
    "    print \"weighted correlation coefficient = \" + str(final_weighted_coefficient)"
   ]
  },
  {
   "cell_type": "code",
   "execution_count": 120,
   "metadata": {
    "collapsed": false
   },
   "outputs": [
    {
     "name": "stdout",
     "output_type": "stream",
     "text": [
      "J1713+0747, MJD 56380, 80 second subintervals\n",
      "sigma_all = 2.44415585816e-07\n",
      "average sigma_dump = 2.49624000145e-08\n",
      "jitter ratio = 9.79134961678\n",
      "masked jitter ratio = 9.79134961678\n",
      "correlation coefficient = 0.975310619846\n",
      "weighted correlation coefficient = 0.935093128473\n"
     ]
    }
   ],
   "source": [
    "jitter_ratio(\"/nimrod1/eschwab/residuals/J1713+0747_resid_56380_80F8.tmp\",\n",
    "            56380.35, 56380.367, 'J1713+0747, MJD 56380, 80 second subintervals')"
   ]
  },
  {
   "cell_type": "code",
   "execution_count": 121,
   "metadata": {
    "collapsed": false
   },
   "outputs": [
    {
     "name": "stdout",
     "output_type": "stream",
     "text": [
      "J1713+0747, MJD 56380, 10 second subintervals\n",
      "sigma_all = 5.82671845721e-07\n",
      "average sigma_dump = 7.10113781891e-08\n",
      "jitter ratio = 8.20533075938\n",
      "masked jitter ratio = 8.20533075938\n",
      "correlation coefficient = 0.965601343627\n",
      "weighted correlation coefficient = 0.72062523975\n"
     ]
    }
   ],
   "source": [
    "jitter_ratio(\"/nimrod1/eschwab/residuals/J1713+0747_resid_56380_NTF8.tmp\",\n",
    "            56380.35, 56380.367, 'J1713+0747, MJD 56380, 10 second subintervals')"
   ]
  },
  {
   "cell_type": "code",
   "execution_count": 122,
   "metadata": {
    "collapsed": false
   },
   "outputs": [
    {
     "name": "stdout",
     "output_type": "stream",
     "text": [
      "J1713+0747, MJD 56201, 80 second subintervals\n",
      "sigma_all = 1.73501235065e-07\n",
      "average sigma_dump = 5.08948679605e-08\n",
      "jitter ratio = 3.40901238215\n",
      "masked jitter ratio = 3.40901238215\n",
      "correlation coefficient = 0.893879830465\n",
      "weighted correlation coefficient = 0.862007717236\n"
     ]
    }
   ],
   "source": [
    "jitter_ratio(\"/nimrod1/eschwab/residuals/J1713+0747_resid_56201_80F8.tmp\",\n",
    "            56201.85, 56201.872, 'J1713+0747, MJD 56201, 80 second subintervals')"
   ]
  },
  {
   "cell_type": "code",
   "execution_count": 123,
   "metadata": {
    "collapsed": false
   },
   "outputs": [
    {
     "name": "stdout",
     "output_type": "stream",
     "text": [
      "J1713+0747, MJD 56201, 10 second subintervals\n",
      "sigma_all = 5.43224438005e-07\n",
      "average sigma_dump = 8.13611454109e-08\n",
      "jitter ratio = 6.67670588045\n",
      "masked jitter ratio = 6.67670588045\n",
      "correlation coefficient = 0.916150377776\n",
      "weighted correlation coefficient = 0.895444174152\n"
     ]
    }
   ],
   "source": [
    "jitter_ratio(\"/nimrod1/eschwab/residuals/J1713+0747_resid_56201_NTF8.tmp\",\n",
    "            56201.85, 56201.872, 'J1713+0747, MJD 56201, 10 second subintervals')"
   ]
  },
  {
   "cell_type": "code",
   "execution_count": 124,
   "metadata": {
    "collapsed": false
   },
   "outputs": [
    {
     "name": "stdout",
     "output_type": "stream",
     "text": [
      "B1937+21, MJD 56465, 80 second subintervals\n",
      "sigma_all = 4.68059107539e-08\n",
      "average sigma_dump = 4.44210286622e-08\n",
      "jitter ratio = 1.05368813293\n",
      "masked jitter ratio = 1.05368813293\n",
      "correlation coefficient = 0.0816201709277\n",
      "weighted correlation coefficient = 0.506229938622\n"
     ]
    }
   ],
   "source": [
    "jitter_ratio(\"/nimrod1/eschwab/residuals/B1937+21_resid_56465_80F8.tmp\",\n",
    "            56465.3, 56465.32, 'B1937+21, MJD 56465, 80 second subintervals')"
   ]
  },
  {
   "cell_type": "code",
   "execution_count": 125,
   "metadata": {
    "collapsed": false
   },
   "outputs": [
    {
     "name": "stdout",
     "output_type": "stream",
     "text": [
      "B1937+21, MJD 56465, 10 second subintervals\n",
      "sigma_all = 7.05138954322e-08\n",
      "average sigma_dump = 4.92378535069e-08\n",
      "jitter ratio = 1.43210742163\n",
      "masked jitter ratio = 1.43210742163\n",
      "correlation coefficient = 0.771068051713\n",
      "weighted correlation coefficient = 0.652272051319\n"
     ]
    }
   ],
   "source": [
    "jitter_ratio(\"/nimrod1/eschwab/residuals/B1937+21_resid_56465_NTF8.tmp\",\n",
    "            56465.3, 56465.32, 'B1937+21, MJD 56465, 10 second subintervals')"
   ]
  },
  {
   "cell_type": "code",
   "execution_count": 126,
   "metadata": {
    "collapsed": false
   },
   "outputs": [
    {
     "name": "stdout",
     "output_type": "stream",
     "text": [
      "J1022+1001, MJD 57208, 80 second subintervals\n",
      "sigma_all = 4.6866049668e-05\n",
      "average sigma_dump = 0.000296708047933\n",
      "jitter ratio = 0.157953415806\n",
      "masked jitter ratio = 3.33695161071\n",
      "correlation coefficient = -0.0908035595199\n",
      "weighted correlation coefficient = 0.173805858185\n"
     ]
    }
   ],
   "source": [
    "jitter_ratio(\"/nimrod1/eschwab/residuals/J1022+1001_resid_57208_80F8.tmp\",\n",
    "            57208.778, 57208.79, 'J1022+1001, MJD 57208, 80 second subintervals')"
   ]
  },
  {
   "cell_type": "code",
   "execution_count": 127,
   "metadata": {
    "collapsed": false
   },
   "outputs": [
    {
     "name": "stdout",
     "output_type": "stream",
     "text": [
      "J1022+1001, MJD 57208, 10 second subintervals\n",
      "sigma_all = 0.000104350827388\n",
      "average sigma_dump = 0.000345928859937\n",
      "jitter ratio = 0.301654008881\n",
      "masked jitter ratio = 2.1828169481\n",
      "correlation coefficient = -0.270679064499\n",
      "weighted correlation coefficient = 0.247261000947\n"
     ]
    }
   ],
   "source": [
    "jitter_ratio(\"/nimrod1/eschwab/residuals/J1022+1001_resid_57208_NTF8.tmp\",\n",
    "            57208.778, 57208.79, 'J1022+1001, MJD 57208, 10 second subintervals')"
   ]
  },
  {
   "cell_type": "code",
   "execution_count": 128,
   "metadata": {
    "collapsed": false
   },
   "outputs": [
    {
     "name": "stdout",
     "output_type": "stream",
     "text": [
      "J1022+1001, MJD 57331, 10 second subintervals\n",
      "sigma_all = 1.65569569649e-06\n",
      "average sigma_dump = 1.43649632382e-06\n",
      "jitter ratio = 1.15259306204\n",
      "masked jitter ratio = 1.15259306204\n",
      "correlation coefficient = 0.131051206325\n",
      "weighted correlation coefficient = 0.209338838827\n"
     ]
    }
   ],
   "source": [
    "jitter_ratio(\"/nimrod1/eschwab/residuals/J1022+1001_resid_57331_80F8.tmp\",\n",
    "            57331.443, 57331.4595, 'J1022+1001, MJD 57331, 10 second subintervals')"
   ]
  },
  {
   "cell_type": "code",
   "execution_count": 129,
   "metadata": {
    "collapsed": false
   },
   "outputs": [
    {
     "name": "stdout",
     "output_type": "stream",
     "text": [
      "J1022+1001, MJD 57331, 10 second subintervals\n",
      "sigma_all = 1.99889485593e-05\n",
      "average sigma_dump = 1.28371737411e-05\n",
      "jitter ratio = 1.55711443675\n",
      "masked jitter ratio = 2.07273433488\n",
      "correlation coefficient = 0.0634166037353\n",
      "weighted correlation coefficient = 0.549554001675\n"
     ]
    }
   ],
   "source": [
    "jitter_ratio(\"/nimrod1/eschwab/residuals/J1022+1001_resid_57331_NTF8.tmp\",\n",
    "            57331.443, 57331.4595, 'J1022+1001, MJD 57331, 10 second subintervals')"
   ]
  },
  {
   "cell_type": "code",
   "execution_count": 130,
   "metadata": {
    "collapsed": false
   },
   "outputs": [
    {
     "name": "stdout",
     "output_type": "stream",
     "text": [
      "J2317+1439, MJD 57273, 80 second subintervals\n",
      "sigma_all = 8.63069774192e-05\n",
      "average sigma_dump = 7.9531672163e-05\n",
      "jitter ratio = 1.08519002646\n",
      "masked jitter ratio = 1.08519002646\n",
      "correlation coefficient = 0.393373284044\n",
      "weighted correlation coefficient = 0.482656996874\n"
     ]
    }
   ],
   "source": [
    "jitter_ratio(\"/nimrod1/eschwab/residuals/J2317+1439_resid_57273_80F8.tmp\",\n",
    "            57273.196, 57273.217, 'J2317+1439, MJD 57273, 80 second subintervals')"
   ]
  },
  {
   "cell_type": "code",
   "execution_count": 131,
   "metadata": {
    "collapsed": false
   },
   "outputs": [
    {
     "name": "stdout",
     "output_type": "stream",
     "text": [
      "J2317+1439, MJD 57273, 10 second subintervals\n",
      "sigma_all = 0.000136392509784\n",
      "average sigma_dump = 0.000136221578037\n",
      "jitter ratio = 1.00125480668\n",
      "masked jitter ratio = 1.00125480668\n",
      "correlation coefficient = -0.0165572422927\n",
      "weighted correlation coefficient = 0.0139920273057\n"
     ]
    }
   ],
   "source": [
    "jitter_ratio(\"/nimrod1/eschwab/residuals/J2317+1439_resid_57273_NTF8.tmp\",\n",
    "            57273.196, 57273.217, 'J2317+1439, MJD 57273, 10 second subintervals')"
   ]
  },
  {
   "cell_type": "code",
   "execution_count": 132,
   "metadata": {
    "collapsed": false
   },
   "outputs": [
    {
     "name": "stdout",
     "output_type": "stream",
     "text": [
      "J2234+0944, MJD 57069, 80 second subintervals\n",
      "sigma_all = 3.09374810381e-07\n",
      "average sigma_dump = 2.54509387228e-07\n",
      "jitter ratio = 1.21557327905\n",
      "masked jitter ratio = 1.21557327905\n",
      "correlation coefficient = 0.244021824527\n",
      "weighted correlation coefficient = 0.1947853598\n"
     ]
    }
   ],
   "source": [
    "jitter_ratio(\"/nimrod1/eschwab/residuals/J2234+0944_resid_57069_80F8.tmp\",\n",
    "            57069.7, 57069.72, 'J2234+0944, MJD 57069, 80 second subintervals')"
   ]
  },
  {
   "cell_type": "code",
   "execution_count": 133,
   "metadata": {
    "collapsed": false
   },
   "outputs": [
    {
     "name": "stdout",
     "output_type": "stream",
     "text": [
      "J2234+0944, MJD 57069, 10 second subintervals\n",
      "sigma_all = 7.79080622293e-07\n",
      "average sigma_dump = 6.23925410863e-07\n",
      "jitter ratio = 1.24867589736\n",
      "masked jitter ratio = 1.24867589736\n",
      "correlation coefficient = 0.181644203051\n",
      "weighted correlation coefficient = 0.450330636602\n"
     ]
    }
   ],
   "source": [
    "jitter_ratio(\"/nimrod1/eschwab/residuals/J2234+0944_resid_57069_NTF8.tmp\",\n",
    "            57069.7, 57069.72, 'J2234+0944, MJD 57069, 10 second subintervals')"
   ]
  },
  {
   "cell_type": "code",
   "execution_count": null,
   "metadata": {
    "collapsed": false
   },
   "outputs": [],
   "source": [
    "# writing out the correlation code\n",
    "\n",
    "#first i need to isolate the arrays. There should be 8 in most, but some still have 16.\n",
    "#(rereduce J1713 and B1937 with updated jitterpipe)\n",
    "\n",
    "#I'll be isolating the arrays of residuals, they will all be residuals of the same frequency band\n",
    "#going forward in time\n",
    "\n",
    "#starting with J1713, even though I'm going to make it divisible by 14 frequency bands.\n",
    "#usually this will be 8 or 9\n",
    "\n",
    "\n",
    "#Defining arrays\n",
    "x=r.read_residuals(filename=\"/nimrod1/eschwab/residuals/J1713+0747_resid_56380_80F8.tmp\")\n",
    "\n",
    "date = 56380\n",
    "condition=(x.bary_TOA > 56380.35) & (x.bary_TOA < 56380.367)\n",
    "\n",
    "TOA=x.bary_TOA[condition]\n",
    "Resid=x.prefit_sec[condition]\n",
    "Freq=x.bary_freq[condition]\n",
    "Error=x.uncertainty[condition]\n",
    "\n",
    "#Creating a matrix of arrays in the correct order\n",
    "# Rows of residuals by frequency\n",
    "# Columns by TOA\n",
    "rounded = np.round(np.array([x.bary_TOA[condition] - 0.00005]), 4)\n",
    "dumptimes=[]\n",
    "for i in rounded.tolist()[0]: \n",
    "    if i not in dumptimes:\n",
    "        dumptimes.append(i)\n",
    "\n",
    "#Creating the data and transposing it to correct format\n",
    "data = []\n",
    "for i in dumptimes[1:]:\n",
    "    timeindex = (rounded == i)[0]\n",
    "    Resids = Resid[timeindex]\n",
    "    data.append(list(Resids))\n",
    "realdata = map(list, zip(*data))\n",
    "\n",
    "#Correlating!\n",
    "corr = np.corrcoef(realdata).tolist()\n",
    "\n",
    "unique_corrs = []\n",
    "#Averaging the correlation\n",
    "for i in range(len(corr))[:-1]:\n",
    "    unique_corrs.append(corr[i][i+1:]) #because numpy array, double index necessay\n",
    "unique_corrs  = [val for sublist in unique_corrs for val in sublist]\n",
    "np.average(unique_corrs)"
   ]
  },
  {
   "cell_type": "code",
   "execution_count": null,
   "metadata": {
    "collapsed": true
   },
   "outputs": [],
   "source": []
  }
 ],
 "metadata": {
  "kernelspec": {
   "display_name": "Python 2",
   "language": "python",
   "name": "python2"
  },
  "language_info": {
   "codemirror_mode": {
    "name": "ipython",
    "version": 2
   },
   "file_extension": ".py",
   "mimetype": "text/x-python",
   "name": "python",
   "nbconvert_exporter": "python",
   "pygments_lexer": "ipython2",
   "version": "2.7.3"
  }
 },
 "nbformat": 4,
 "nbformat_minor": 0
}
