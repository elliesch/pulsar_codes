{
 "cells": [
  {
   "cell_type": "code",
   "execution_count": 263,
   "metadata": {
    "collapsed": true
   },
   "outputs": [],
   "source": [
    "import numpy as np\n",
    "import math\n",
    "import residuals as r\n",
    "np.set_printoptions(threshold=40)\n",
    "np.set_printoptions(suppress=True)"
   ]
  },
  {
   "cell_type": "code",
   "execution_count": 379,
   "metadata": {
    "collapsed": false
   },
   "outputs": [],
   "source": [
    "# I am defining the weighted standard deviation according to this definition:\n",
    "# https://en.wikipedia.org/wiki/Weighted_arithmetic_mean#Weighted_sample_variance\n",
    "# I am using the inverse square of the error arrays to define the weights\n",
    "\n",
    "factor10 = math.sqrt((25*60)/10.0) \n",
    "factor80 = math.sqrt((25*60)/80.0) \n",
    "\n",
    "\n",
    "\n",
    "def weighted_stddev(values, errors):\n",
    "    '''\n",
    "    Return the weighted average and standard deviation.\n",
    "\n",
    "    '''\n",
    "    weights = 1 / ((errors)**2)\n",
    "    average = np.average(values, weights=weights)\n",
    "    variance = np.average((values-average)**2, weights=weights)  # Fast and numerically precise\n",
    "    return (math.sqrt(variance))\n",
    "\n",
    "def magnitude(x):\n",
    "    var = float(x)\n",
    "    return int(math.floor(math.log10(var)))\n",
    "\n",
    "def jitter_ratio(resids_file, condition_lower, condition_upper, titlearg):\n",
    "    '''\n",
    "    Return the ratio of sigma_dump over sigma_all.\n",
    "\n",
    "    '''\n",
    "    \n",
    "    #Define sigma_all (or std_all) as entire observation period\n",
    "    x=r.read_residuals(filename=resids_file)\n",
    "\n",
    "    condition = (x.bary_TOA > condition_lower) & (x.bary_TOA < condition_upper)\n",
    "    Resid_all = x.prefit_sec[condition]\n",
    "    Errors_all = x.uncertainty[condition]\n",
    "    std_all = weighted_stddev(Resid_all, Errors_all)\n",
    "    \n",
    "    ##============\n",
    "    \n",
    "    #Define sigma_dump (or std_all) as individual dumps within observation period\n",
    "    \n",
    "    #This isolates the numbers for the different dump times\n",
    "    rounded = np.round(np.array([x.bary_TOA[condition] - 0.00005]), 4)\n",
    "    dumptimes=[]\n",
    "    for i in rounded.tolist()[0]: \n",
    "        if i not in dumptimes:\n",
    "            dumptimes.append(i)\n",
    "\n",
    "    #This calculates a list of sigma_dump values and averages those\n",
    "    str_dump_devs=[]\n",
    "    for i in dumptimes:\n",
    "        timeindex = (rounded == i)[0]\n",
    "        Resid = Resid_all[timeindex]\n",
    "        Errors = Errors_all[timeindex]\n",
    "        single_std_dump = weighted_stddev(Resid, Errors)\n",
    "        str_dump_devs.append(single_std_dump)\n",
    "    \n",
    "    #to convert str_dump_devs out of scientific notation\n",
    "    dump_devs=[]\n",
    "    for i in str_dump_devs:\n",
    "        dump_devs.append('{0:.20f}'.format(i))\n",
    "        \n",
    "    #prints the magnitude of each sigma_dump in a list and finds average magnitude\n",
    "    magarray=[]\n",
    "    for i in dump_devs:\n",
    "        magarray.append(magnitude(i))\n",
    "    averagemag = round(np.mean(magarray))\n",
    "    \n",
    "    arg=averagemag+1.5\n",
    "    makemask = np.ma.masked_where(np.array(magarray) > arg, np.array(magarray))\n",
    "    \n",
    "    std_dump=np.mean(str_dump_devs)\n",
    "    masked_std_dump = np.mean(np.ma.masked_where(np.ma.getmask(makemask), str_dump_devs))\n",
    "        \n",
    "#     for i in dumptimes:\n",
    "#         timeindex = (rounded == i)[0]\n",
    "#         Errors = Errors_all[timeindex]\n",
    "#         print Errors\n",
    "    \n",
    "    #Setup jitter ratio\n",
    "    ratio = std_all / std_dump\n",
    "    masked_ratio = std_all / masked_std_dump\n",
    "    \n",
    "    print titlearg\n",
    "    print \"sigma_all = \" + str(std_all)\n",
    "    print \"average sigma_dump = \" + str(std_dump)\n",
    "#     print \"every sigma_dump = \" + str(dump_devs)\n",
    "    print \"jitter ratio = \" + str(ratio) \n",
    "    print \"masked jitter ratio = \" + str(masked_ratio) "
   ]
  },
  {
   "cell_type": "code",
   "execution_count": 92,
   "metadata": {
    "collapsed": false
   },
   "outputs": [
    {
     "name": "stdout",
     "output_type": "stream",
     "text": [
      "1500\n",
      "150\n",
      "12.2474487139\n",
      "12.2474487139\n",
      "4.24264068712\n"
     ]
    }
   ],
   "source": [
    "#Checking order of operations\n",
    "\n",
    "print 25*60\n",
    "print 1500/10\n",
    "print math.sqrt(150)\n",
    "print math.sqrt((25*60)/10)\n",
    "\n",
    "print math.sqrt((25*60)/80)\n",
    "\n",
    "#yes, order of operations works"
   ]
  },
  {
   "cell_type": "code",
   "execution_count": 382,
   "metadata": {
    "collapsed": false
   },
   "outputs": [
    {
     "name": "stdout",
     "output_type": "stream",
     "text": [
      "J1713+0747, MJD 56380, 80 second subintervals\n",
      "sigma_all = 2.44415585816e-07\n",
      "average sigma_dump = 2.49624000145e-08\n",
      "jitter ratio = 9.79134961678\n",
      "masked jitter ratio = 9.79134961678\n"
     ]
    }
   ],
   "source": [
    "jitter_ratio(\"/nimrod1/eschwab/residuals/J1713+0747_resid_56380_80F8.tmp\",\n",
    "            56380.35, 56380.367, 'J1713+0747, MJD 56380, 80 second subintervals')"
   ]
  },
  {
   "cell_type": "code",
   "execution_count": 383,
   "metadata": {
    "collapsed": false
   },
   "outputs": [
    {
     "name": "stdout",
     "output_type": "stream",
     "text": [
      "J1713+0747, MJD 56380, 10 second subintervals\n",
      "sigma_all = 5.82671845721e-07\n",
      "average sigma_dump = 7.10113781891e-08\n",
      "jitter ratio = 8.20533075938\n",
      "masked jitter ratio = 8.20533075938\n"
     ]
    }
   ],
   "source": [
    "jitter_ratio(\"/nimrod1/eschwab/residuals/J1713+0747_resid_56380_NTF8.tmp\",\n",
    "            56380.35, 56380.367, 'J1713+0747, MJD 56380, 10 second subintervals')"
   ]
  },
  {
   "cell_type": "code",
   "execution_count": 384,
   "metadata": {
    "collapsed": false
   },
   "outputs": [
    {
     "name": "stdout",
     "output_type": "stream",
     "text": [
      "J1713+0747, MJD 56201, 80 second subintervals\n",
      "sigma_all = 1.73501235065e-07\n",
      "average sigma_dump = 5.08948679605e-08\n",
      "jitter ratio = 3.40901238215\n",
      "masked jitter ratio = 3.40901238215\n"
     ]
    }
   ],
   "source": [
    "jitter_ratio(\"/nimrod1/eschwab/residuals/J1713+0747_resid_56201_80F8.tmp\",\n",
    "            56201.85, 56201.872, 'J1713+0747, MJD 56201, 80 second subintervals')"
   ]
  },
  {
   "cell_type": "code",
   "execution_count": 385,
   "metadata": {
    "collapsed": false
   },
   "outputs": [
    {
     "name": "stdout",
     "output_type": "stream",
     "text": [
      "J1713+0747, MJD 56201, 10 second subintervals\n",
      "sigma_all = 5.43224438005e-07\n",
      "average sigma_dump = 8.13611454109e-08\n",
      "jitter ratio = 6.67670588045\n",
      "masked jitter ratio = 6.67670588045\n"
     ]
    }
   ],
   "source": [
    "jitter_ratio(\"/nimrod1/eschwab/residuals/J1713+0747_resid_56201_NTF8.tmp\",\n",
    "            56201.85, 56201.872, 'J1713+0747, MJD 56201, 10 second subintervals')"
   ]
  },
  {
   "cell_type": "code",
   "execution_count": 387,
   "metadata": {
    "collapsed": false
   },
   "outputs": [
    {
     "name": "stdout",
     "output_type": "stream",
     "text": [
      "B1937+21, MJD 56465, 80 second subintervals\n",
      "sigma_all = 4.68059107539e-08\n",
      "average sigma_dump = 4.44210286622e-08\n",
      "jitter ratio = 1.05368813293\n",
      "masked jitter ratio = 1.05368813293\n"
     ]
    }
   ],
   "source": [
    "jitter_ratio(\"/nimrod1/eschwab/residuals/B1937+21_resid_56465_80F8.tmp\",\n",
    "            56465.3, 56465.32, 'B1937+21, MJD 56465, 80 second subintervals')"
   ]
  },
  {
   "cell_type": "code",
   "execution_count": 388,
   "metadata": {
    "collapsed": false
   },
   "outputs": [
    {
     "name": "stdout",
     "output_type": "stream",
     "text": [
      "B1937+21, MJD 56465, 10 second subintervals\n",
      "sigma_all = 7.05138954322e-08\n",
      "average sigma_dump = 4.92378535069e-08\n",
      "jitter ratio = 1.43210742163\n",
      "masked jitter ratio = 1.43210742163\n"
     ]
    }
   ],
   "source": [
    "jitter_ratio(\"/nimrod1/eschwab/residuals/B1937+21_resid_56465_NTF8.tmp\",\n",
    "            56465.3, 56465.32, 'B1937+21, MJD 56465, 10 second subintervals')"
   ]
  },
  {
   "cell_type": "code",
   "execution_count": 380,
   "metadata": {
    "collapsed": false
   },
   "outputs": [
    {
     "name": "stdout",
     "output_type": "stream",
     "text": [
      "J1022+1001, MJD 57208, 80 second subintervals\n",
      "sigma_all = 4.6866049668e-05\n",
      "average sigma_dump = 0.000296708047933\n",
      "jitter ratio = 0.157953415806\n",
      "masked jitter ratio = 3.33695161071\n"
     ]
    }
   ],
   "source": [
    "jitter_ratio(\"/nimrod1/eschwab/residuals/J1022+1001_resid_57208_80F8.tmp\",\n",
    "            57208.778, 57208.79, 'J1022+1001, MJD 57208, 80 second subintervals')"
   ]
  },
  {
   "cell_type": "code",
   "execution_count": 381,
   "metadata": {
    "collapsed": false
   },
   "outputs": [
    {
     "name": "stdout",
     "output_type": "stream",
     "text": [
      "J1022+1001, MJD 57208, 10 second subintervals\n",
      "sigma_all = 0.000104350827388\n",
      "average sigma_dump = 0.000345928859937\n",
      "jitter ratio = 0.301654008881\n",
      "masked jitter ratio = 2.1828169481\n"
     ]
    }
   ],
   "source": [
    "jitter_ratio(\"/nimrod1/eschwab/residuals/J1022+1001_resid_57208_NTF8.tmp\",\n",
    "            57208.778, 57208.79, 'J1022+1001, MJD 57208, 10 second subintervals')"
   ]
  },
  {
   "cell_type": "code",
   "execution_count": null,
   "metadata": {
    "collapsed": true
   },
   "outputs": [],
   "source": []
  }
 ],
 "metadata": {
  "kernelspec": {
   "display_name": "Python 2",
   "language": "python",
   "name": "python2"
  },
  "language_info": {
   "codemirror_mode": {
    "name": "ipython",
    "version": 2
   },
   "file_extension": ".py",
   "mimetype": "text/x-python",
   "name": "python",
   "nbconvert_exporter": "python",
   "pygments_lexer": "ipython2",
   "version": "2.7.3"
  }
 },
 "nbformat": 4,
 "nbformat_minor": 0
}
