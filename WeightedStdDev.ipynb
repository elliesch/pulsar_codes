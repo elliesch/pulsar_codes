{
 "cells": [
  {
   "cell_type": "code",
   "execution_count": 157,
   "metadata": {
    "collapsed": true
   },
   "outputs": [],
   "source": [
    "import numpy as np\n",
    "import math\n",
    "import residuals as r\n",
    "np.set_printoptions(threshold=40)"
   ]
  },
  {
   "cell_type": "code",
   "execution_count": 93,
   "metadata": {
    "collapsed": false
   },
   "outputs": [],
   "source": [
    "# I am defining the weighted standard deviation according to this definition:\n",
    "# https://en.wikipedia.org/wiki/Weighted_arithmetic_mean#Weighted_sample_variance\n",
    "# I am using the inverse square of the error arrays to define the weights\n",
    "\n",
    "factor10 = math.sqrt((25*60)/10) \n",
    "factor80 = math.sqrt((25*60)/80) \n",
    "\n",
    "def weighted_stddev(values, errors):\n",
    "    '''\n",
    "    Return the weighted average and standard deviation.\n",
    "\n",
    "    '''\n",
    "    weights = 1 / ((errors)**2)\n",
    "    average = np.average(values, weights=weights)\n",
    "    variance = np.average((values-average)**2, weights=weights)  # Fast and numerically precise\n",
    "    return (math.sqrt(variance))\n",
    "\n",
    "def jitter_ratio(dumpresids_file, condition_lower, condition_upper, titlearg):\n",
    "    '''\n",
    "    Return the ratio of sigma_dump over sigma_all.\n",
    "\n",
    "    '''\n",
    "    \n",
    "    #Define sigma_all (or std_all) as entire observation period\n",
    "    x=r.read_residuals(filename=dumpresids_file)\n",
    "\n",
    "    condition = (x.bary_TOA > condition_lower) & (x.bary_TOA < condition_upper)\n",
    "    Resid_all = x.prefit_sec[condition]\n",
    "    Errors_all = x.uncertainty[condition]\n",
    "    std_all = weighted_stddev(Resid_all, Errors_all)\n",
    "    \n",
    "    ##============\n",
    "    \n",
    "    #Define sigma_dump (or std_all) as individual dumps within observation period\n",
    "    \n",
    "    #This isolates the numbers for the different dump times\n",
    "    rounded = np.round(np.array([x.bary_TOA - 0.00005]), 4)\n",
    "    dumptimes=[]\n",
    "    for i in rounded.tolist()[0]: \n",
    "        if i not in dumptimes:\n",
    "            dumptimes.append(i)\n",
    "\n",
    "    #This calculates a list of sigma_dump values and avearages those\n",
    "    dump_devs=[]\n",
    "    for i in dumptimes:\n",
    "        timeindex = (rounded == i)[0]\n",
    "        Resid = x.prefit_sec[timeindex]\n",
    "        Errors = x.uncertainty[timeindex]\n",
    "        single_std_dump = weighted_stddev(Resid, Errors)\n",
    "        all_dumps.append(single_std_dump)\n",
    "    std_dump=np.average(dump_devs)\n",
    "    \n",
    "    #Setup jitter ratio\n",
    "    ratio = std_dump / std_all\n",
    "    \n",
    "    print titlearg\n",
    "    print std_dump\n",
    "    print \"jitter ratio = \" + str(ratio)   \n",
    "    \n",
    "    \n",
    "\n",
    "def wrong_jitter_ratio(allresids_file, dumpresids_file, condition_lower, condition_upper, titlearg, int_time):\n",
    "    '''\n",
    "    Return the ratio of sigma_dump over sigma_all.\n",
    "\n",
    "    '''\n",
    "    \n",
    "    #Define sigma_all (or std_all)\n",
    "    y=r.read_residuals(filename=allresids_file)\n",
    "    FullResid = y.prefit_sec\n",
    "    FullErrors = y.uncertainty\n",
    "    std_all = weighted_stddev(FullResid, FullErrors)\n",
    "    \n",
    "    if int_time is 10:\n",
    "        std_all = (factor10)*std_all\n",
    "    \n",
    "    if int_time is 80:\n",
    "        std_all = (factor80)*std_all\n",
    "    \n",
    "    #=======\n",
    "    \n",
    "    #Define sigma_dump (or std_dump)\n",
    "    x=r.read_residuals(filename=dumpresids_file)\n",
    "\n",
    "    condition = (x.bary_TOA > condition_lower) & (x.bary_TOA < condition_upper)\n",
    "    Resid = x.prefit_sec[condition]\n",
    "    Errors = x.uncertainty[condition]\n",
    "    std_dump = weighted_stddev(Resid, Errors)\n",
    "    \n",
    "    #Setup jitter ratio\n",
    "    ratio = std_dump / std_all\n",
    "    \n",
    "    print titlearg\n",
    "    print std_dump\n",
    "    print \"jitter ratio = \" + str(ratio)   "
   ]
  },
  {
   "cell_type": "code",
   "execution_count": 175,
   "metadata": {
    "collapsed": false
   },
   "outputs": [],
   "source": [
    "# working on getting sigma dump to be individual TOA dumps, using J1713 MJD 56380 first\n",
    "#Doing this by isolating to the fourth sigfig and rounding down\n",
    "\n",
    "x=r.read_residuals(filename=\"/nimrod1/eschwab/residuals/J1713+0747_resid_56380_NTF8.tmp\")\n",
    "\n",
    "#This rounds it down to the fourth digit after the decimal and makes it a python list\n",
    "rounded = np.round(np.array([x.bary_TOA - 0.00005]), 4)\n",
    "\n",
    "#This creates an index for residuals and uncertainty where rounded equals a specific number\n",
    "timeindex = (rounded == 56380.3514)[0]\n",
    "x.prefit_sec[timeindex]\n",
    "x.uncertainty[timeindex]\n",
    "\n",
    "##========== Above not needed\n",
    "\n",
    "#This isolates the numbers for the different dump times\n",
    "rounded = np.round(np.array([x.bary_TOA - 0.00005]), 4)\n",
    "dumptimes=[]\n",
    "for i in rounded.tolist()[0]: \n",
    "    if i not in dumptimes:\n",
    "        dumptimes.append(i)\n",
    "\n",
    "#This calculates a list of sigma dump values and avearages those\n",
    "all_dumps=[]\n",
    "for i in dumptimes:\n",
    "    timeindex = (rounded == i)[0]\n",
    "    Resid = x.prefit_sec[timeindex]\n",
    "    Errors = x.uncertainty[timeindex]\n",
    "    single_std_dump = weighted_stddev(Resid, Errors)\n",
    "    all_dumps.append(single_std_dump)\n",
    "std_dump=np.average(all_dumps)"
   ]
  },
  {
   "cell_type": "code",
   "execution_count": 92,
   "metadata": {
    "collapsed": false
   },
   "outputs": [
    {
     "name": "stdout",
     "output_type": "stream",
     "text": [
      "1500\n",
      "150\n",
      "12.2474487139\n",
      "12.2474487139\n",
      "4.24264068712\n"
     ]
    }
   ],
   "source": [
    "#Checking order of operations\n",
    "\n",
    "print 25*60\n",
    "print 1500/10\n",
    "print math.sqrt(150)\n",
    "print math.sqrt((25*60)/10)\n",
    "\n",
    "print math.sqrt((25*60)/80)\n",
    "\n",
    "#yes, order of operations works"
   ]
  },
  {
   "cell_type": "code",
   "execution_count": 80,
   "metadata": {
    "collapsed": false
   },
   "outputs": [
    {
     "name": "stdout",
     "output_type": "stream",
     "text": [
      "J1713+0747, MJD 56380, 80 second subintervals\n",
      "2.44415585816e-07\n",
      "jitter ratio = 0.0602632499995\n"
     ]
    }
   ],
   "source": [
    "jitter_ratio(\"/nimrod1/eschwab/residuals/residJ1713_-56380.tmp\",\n",
    "             \"/nimrod1/eschwab/residuals/J1713+0747_resid_56380_80F8.tmp\",\n",
    "            56380.35, 56380.367, 'J1713+0747, MJD 56380, 80 second subintervals', 80)"
   ]
  },
  {
   "cell_type": "code",
   "execution_count": 81,
   "metadata": {
    "collapsed": false
   },
   "outputs": [
    {
     "name": "stdout",
     "output_type": "stream",
     "text": [
      "J1713+0747, MJD 56380, 10 second subintervals\n",
      "5.82671845721e-07\n",
      "jitter ratio = 0.0497666388099\n"
     ]
    }
   ],
   "source": [
    "jitter_ratio(\"/nimrod1/eschwab/residuals/residJ1713_-56380.tmp\",\n",
    "             \"/nimrod1/eschwab/residuals/J1713+0747_resid_56380_NTF8.tmp\",\n",
    "            56380.35, 56380.367, 'J1713+0747, MJD 56380, 10 second subintervals', 10)"
   ]
  },
  {
   "cell_type": "code",
   "execution_count": 82,
   "metadata": {
    "collapsed": false
   },
   "outputs": [
    {
     "name": "stdout",
     "output_type": "stream",
     "text": [
      "J1713+0747, MJD 56201, 80 second subintervals\n",
      "1.73501235065e-07\n",
      "jitter ratio = 0.0793011729408\n"
     ]
    }
   ],
   "source": [
    "jitter_ratio(\"/nimrod1/eschwab/residuals/residJ1713_-56201.tmp\",\n",
    "             \"/nimrod1/eschwab/residuals/J1713+0747_resid_56201_80F8.tmp\",\n",
    "            56201.85, 56201.872, 'J1713+0747, MJD 56201, 80 second subintervals', 80)"
   ]
  },
  {
   "cell_type": "code",
   "execution_count": 83,
   "metadata": {
    "collapsed": false
   },
   "outputs": [
    {
     "name": "stdout",
     "output_type": "stream",
     "text": [
      "J1713+0747, MJD 56201, 10 second subintervals\n",
      "5.43224438005e-07\n",
      "jitter ratio = 0.0860096068797\n"
     ]
    }
   ],
   "source": [
    "jitter_ratio(\"/nimrod1/eschwab/residuals/residJ1713_-56201.tmp\",\n",
    "             \"/nimrod1/eschwab/residuals/J1713+0747_resid_56201_NTF8.tmp\",\n",
    "            56201.85, 56201.872, 'J1713+0747, MJD 56201, 10 second subintervals', 10)"
   ]
  },
  {
   "cell_type": "code",
   "execution_count": 84,
   "metadata": {
    "collapsed": false
   },
   "outputs": [
    {
     "name": "stdout",
     "output_type": "stream",
     "text": [
      "B1937+21, MJD 56465, 80 second subintervals\n",
      "4.68059107539e-08\n",
      "jitter ratio = 0.0277180473429\n"
     ]
    }
   ],
   "source": [
    "jitter_ratio(\"/nimrod1/eschwab/residuals/residB1937_-56465.tmp\",\n",
    "             \"/nimrod1/eschwab/residuals/B1937+21_resid_56465_80F8.tmp\",\n",
    "            56465.3, 56465.32, 'B1937+21, MJD 56465, 80 second subintervals', 80)"
   ]
  },
  {
   "cell_type": "code",
   "execution_count": 85,
   "metadata": {
    "collapsed": false
   },
   "outputs": [
    {
     "name": "stdout",
     "output_type": "stream",
     "text": [
      "B1937+21, MJD 56465, 10 second subintervals\n",
      "7.05138954322e-08\n",
      "jitter ratio = 0.0144652939138\n"
     ]
    }
   ],
   "source": [
    "jitter_ratio(\"/nimrod1/eschwab/residuals/residB1937_-56465.tmp\",\n",
    "             \"/nimrod1/eschwab/residuals/B1937+21_resid_56465_NTF8.tmp\",\n",
    "            56465.3, 56465.32, 'B1937+21, MJD 56465, 10 second subintervals', 10)"
   ]
  },
  {
   "cell_type": "code",
   "execution_count": null,
   "metadata": {
    "collapsed": true
   },
   "outputs": [],
   "source": []
  }
 ],
 "metadata": {
  "kernelspec": {
   "display_name": "Python 2",
   "language": "python",
   "name": "python2"
  },
  "language_info": {
   "codemirror_mode": {
    "name": "ipython",
    "version": 2
   },
   "file_extension": ".py",
   "mimetype": "text/x-python",
   "name": "python",
   "nbconvert_exporter": "python",
   "pygments_lexer": "ipython2",
   "version": "2.7.3"
  }
 },
 "nbformat": 4,
 "nbformat_minor": 0
}
